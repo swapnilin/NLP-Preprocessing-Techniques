{
 "cells": [
  {
   "cell_type": "markdown",
   "id": "65f517ad",
   "metadata": {},
   "source": [
    "# Implementation of N-grams"
   ]
  },
  {
   "cell_type": "markdown",
   "id": "f05448c3",
   "metadata": {},
   "source": [
    "    "
   ]
  },
  {
   "attachments": {},
   "cell_type": "markdown",
   "id": "8cef371c",
   "metadata": {},
   "source": [
    "**n-gram:** is a contiguous sequence of n items (which can be characters, words, or other units) that are extracted from a larger piece of text, such as a sentence or a document.\n",
    "\n",
    "Eg: `\"The quick brown fox jumps over the lazy dog.\"` \n",
    "\n",
    "Here are some examples of n-grams with different values of n:\n",
    "\n",
    "**Unigrams (n = 1):** The, quick, brown, fox, jumps, over, the, lazy, dog<br><br>\n",
    "**Bigrams (n = 2):** The quick, quick brown, brown fox, fox jumps, jumps over, over the, the lazy, lazy dog<br><br>\n",
    "**Trigrams (n = 3):** The quick brown, quick brown fox, brown fox jumps, fox jumps over, jumps over the, over the lazy, the lazy dog<br><br>\n",
    "\n",
    "N-grams are often used in natural language processing tasks such as language modeling, text classification, and machine translation. By considering the frequencies of different n-grams in a piece of text, machine learning algorithms can learn patterns and make predictions about the text. N-grams can also be used to generate new text or to detect plagiarism, among other applications."
   ]
  },
  {
   "cell_type": "markdown",
   "id": "f4d2098d",
   "metadata": {},
   "source": [
    "    "
   ]
  },
  {
   "cell_type": "markdown",
   "id": "ad6d6d20",
   "metadata": {},
   "source": [
    "### Let us work with the Reuters dataset"
   ]
  },
  {
   "cell_type": "code",
   "execution_count": 1,
   "id": "4ffb55e9",
   "metadata": {},
   "outputs": [],
   "source": [
    "import nltk\n",
    "import pandas as pd\n",
    "\n",
    "# This will help view all the text\n",
    "pd.set_option('display.max_colwidth', None)"
   ]
  },
  {
   "cell_type": "markdown",
   "id": "5a244dc2",
   "metadata": {},
   "source": [
    "NLTK provides several datasets for text classification tasks, here are some examples:\n",
    "\n",
    "1. **Reuters Corpus:** This dataset contains 10,788 news articles from the Reuters news agency, labeled with 90 categories. The dataset is often used for topic classification and information retrieval tasks.<br><br>\n",
    "2. **20 Newsgroups:** This dataset contains around 20,000 newsgroup posts from 20 different newsgroups, labeled with the newsgroup they belong to. The dataset is often used for text classification tasks, such as topic classification and sentiment analysis.<br><br>\n",
    "3. **IMDB Reviews:** This dataset contains 50,000 movie reviews from the Internet Movie Database (IMDB), labeled as positive or negative. The dataset is often used for sentiment analysis and text classification tasks.<br><br>\n",
    "4. **Brown Corpus:** This dataset contains 500 samples of English text from various genres, labeled with categories such as news, fiction, and reviews. The dataset is often used for genre classification and other text classification tasks.<br><br>\n",
    "5. **Webtext Corpus:** This dataset contains a collection of text extracted from various websites, labeled with categories such as news, blogs, and reviews. The dataset is often used for text classification and language modeling tasks.<br><br>"
   ]
  },
  {
   "cell_type": "code",
   "execution_count": 2,
   "id": "cc823c6c",
   "metadata": {},
   "outputs": [
    {
     "name": "stderr",
     "output_type": "stream",
     "text": [
      "[nltk_data] Downloading package reuters to /Users/swapnil/nltk_data...\n",
      "[nltk_data]   Package reuters is already up-to-date!\n"
     ]
    }
   ],
   "source": [
    "# Load the Reuters Corpus\n",
    "nltk.download('reuters')\n",
    "corpus = nltk.corpus.reuters"
   ]
  },
  {
   "cell_type": "code",
   "execution_count": 3,
   "id": "5c2ed167",
   "metadata": {},
   "outputs": [],
   "source": [
    "# Get the categories and fileids\n",
    "categories = corpus.categories()\n",
    "fileids = corpus.fileids()"
   ]
  },
  {
   "cell_type": "code",
   "execution_count": 7,
   "id": "651f545e",
   "metadata": {},
   "outputs": [
    {
     "name": "stdout",
     "output_type": "stream",
     "text": [
      "The sample corpus has 90 unique categories and a total of 10788 articles.\n"
     ]
    }
   ],
   "source": [
    "print(f'The sample corpus has {len(categories)} unique categories and a total of {len(fileids)} articles.')"
   ]
  },
  {
   "cell_type": "markdown",
   "id": "4319480e",
   "metadata": {},
   "source": [
    "    "
   ]
  },
  {
   "cell_type": "markdown",
   "id": "2b38a32e",
   "metadata": {},
   "source": [
    "## Let's put this data in a dataframe"
   ]
  },
  {
   "cell_type": "code",
   "execution_count": 4,
   "id": "881d8769",
   "metadata": {},
   "outputs": [],
   "source": [
    "# Create a list of dictionaries, where each dictionary represents a document\n",
    "documents = []\n",
    "for fileid in fileids:\n",
    "    category = corpus.categories(fileid)[0]\n",
    "    raw_text = corpus.raw(fileid)\n",
    "    documents.append({'fileid': fileid, 'category': category, 'text': raw_text})\n",
    "\n",
    "\n",
    "# Convert the list of dictionaries to a Pandas DataFrame\n",
    "df = pd.DataFrame(documents)"
   ]
  },
  {
   "cell_type": "code",
   "execution_count": 21,
   "id": "1551fd3b",
   "metadata": {},
   "outputs": [
    {
     "data": {
      "text/html": [
       "<div>\n",
       "<style scoped>\n",
       "    .dataframe tbody tr th:only-of-type {\n",
       "        vertical-align: middle;\n",
       "    }\n",
       "\n",
       "    .dataframe tbody tr th {\n",
       "        vertical-align: top;\n",
       "    }\n",
       "\n",
       "    .dataframe thead th {\n",
       "        text-align: right;\n",
       "    }\n",
       "</style>\n",
       "<table border=\"1\" class=\"dataframe\">\n",
       "  <thead>\n",
       "    <tr style=\"text-align: right;\">\n",
       "      <th></th>\n",
       "      <th>fileid</th>\n",
       "      <th>category</th>\n",
       "      <th>text</th>\n",
       "    </tr>\n",
       "  </thead>\n",
       "  <tbody>\n",
       "    <tr>\n",
       "      <th>0</th>\n",
       "      <td>test/14826</td>\n",
       "      <td>trade</td>\n",
       "      <td>ASIAN EXPORTERS FEAR DAMAGE FROM U.S.-JAPAN RIFT\\n  Mounting trade friction between the\\n  U.S. And Japan has raised fears among many of Asia's exporting\\n  nations that the row could inflict far-reaching economic\\n  damage, businessmen and officials said.\\n      They told Reuter correspondents in Asian capitals a U.S.\\n  Move against Japan might boost protectionist sentiment in the\\n  U.S. And lead to curbs on American imports of their products.\\n      But some exporters said that while the conflict would hurt\\n  them in the long-run, in the short-term Tokyo's loss might be\\n  their gain.\\n      The U.S. Has said it will impose 300 mln dlrs of tariffs on\\n  imports of Japanese electronics goods on April 17, in\\n  retaliation for Japan's alleged failure to stick to a pact not\\n  to sell semiconductors on world markets at below cost.\\n      Unofficial Japanese estimates put the impact of the tariffs\\n  at 10 billion dlrs and spokesmen for major electronics firms\\n  said they would virtually halt exports of products hit by the\\n  new taxes.\\n      \"We wouldn't be able to do business,\" said a spokesman for\\n  leading Japanese electronics firm Matsushita Electric\\n  Industrial Co Ltd &amp;lt;MC.T&gt;.\\n      \"If the tariffs remain in place for any length of time\\n  beyond a few months it will mean the complete erosion of\\n  exports (of goods subject to tariffs) to the U.S.,\" said Tom\\n  Murtha, a stock analyst at the Tokyo office of broker &amp;lt;James\\n  Capel and Co&gt;.\\n      In Taiwan, businessmen and officials are also worried.\\n      \"We are aware of the seriousness of the U.S. Threat against\\n  Japan because it serves as a warning to us,\" said a senior\\n  Taiwanese trade official who asked not to be named.\\n      Taiwan had a trade trade surplus of 15.6 billion dlrs last\\n  year, 95 pct of it with the U.S.\\n      The surplus helped swell Taiwan's foreign exchange reserves\\n  to 53 billion dlrs, among the world's largest.\\n      \"We must quickly open our markets, remove trade barriers and\\n  cut import tariffs to allow imports of U.S. Products, if we\\n  want to defuse problems from possible U.S. Retaliation,\" said\\n  Paul Sheen, chairman of textile exporters &amp;lt;Taiwan Safe Group&gt;.\\n      A senior official of South Korea's trade promotion\\n  association said the trade dispute between the U.S. And Japan\\n  might also lead to pressure on South Korea, whose chief exports\\n  are similar to those of Japan.\\n      Last year South Korea had a trade surplus of 7.1 billion\\n  dlrs with the U.S., Up from 4.9 billion dlrs in 1985.\\n      In Malaysia, trade officers and businessmen said tough\\n  curbs against Japan might allow hard-hit producers of\\n  semiconductors in third countries to expand their sales to the\\n  U.S.\\n      In Hong Kong, where newspapers have alleged Japan has been\\n  selling below-cost semiconductors, some electronics\\n  manufacturers share that view. But other businessmen said such\\n  a short-term commercial advantage would be outweighed by\\n  further U.S. Pressure to block imports.\\n      \"That is a very short-term view,\" said Lawrence Mills,\\n  director-general of the Federation of Hong Kong Industry.\\n      \"If the whole purpose is to prevent imports, one day it will\\n  be extended to other sources. Much more serious for Hong Kong\\n  is the disadvantage of action restraining trade,\" he said.\\n      The U.S. Last year was Hong Kong's biggest export market,\\n  accounting for over 30 pct of domestically produced exports.\\n      The Australian government is awaiting the outcome of trade\\n  talks between the U.S. And Japan with interest and concern,\\n  Industry Minister John Button said in Canberra last Friday.\\n      \"This kind of deterioration in trade relations between two\\n  countries which are major trading partners of ours is a very\\n  serious matter,\" Button said.\\n      He said Australia's concerns centred on coal and beef,\\n  Australia's two largest exports to Japan and also significant\\n  U.S. Exports to that country.\\n      Meanwhile U.S.-Japanese diplomatic manoeuvres to solve the\\n  trade stand-off continue.\\n      Japan's ruling Liberal Democratic Party yesterday outlined\\n  a package of economic measures to boost the Japanese economy.\\n      The measures proposed include a large supplementary budget\\n  and record public works spending in the first half of the\\n  financial year.\\n      They also call for stepped-up spending as an emergency\\n  measure to stimulate the economy despite Prime Minister\\n  Yasuhiro Nakasone's avowed fiscal reform program.\\n      Deputy U.S. Trade Representative Michael Smith and Makoto\\n  Kuroda, Japan's deputy minister of International Trade and\\n  Industry (MITI), are due to meet in Washington this week in an\\n  effort to end the dispute.\\n  \\n\\n</td>\n",
       "    </tr>\n",
       "    <tr>\n",
       "      <th>1</th>\n",
       "      <td>test/14828</td>\n",
       "      <td>grain</td>\n",
       "      <td>CHINA DAILY SAYS VERMIN EAT 7-12 PCT GRAIN STOCKS\\n  A survey of 19 provinces and seven cities\\n  showed vermin consume between seven and 12 pct of China's grain\\n  stocks, the China Daily said.\\n      It also said that each year 1.575 mln tonnes, or 25 pct, of\\n  China's fruit output are left to rot, and 2.1 mln tonnes, or up\\n  to 30 pct, of its vegetables. The paper blamed the waste on\\n  inadequate storage and bad preservation methods.\\n      It said the government had launched a national programme to\\n  reduce waste, calling for improved technology in storage and\\n  preservation, and greater production of additives. The paper\\n  gave no further details.\\n  \\n\\n</td>\n",
       "    </tr>\n",
       "    <tr>\n",
       "      <th>2</th>\n",
       "      <td>test/14829</td>\n",
       "      <td>crude</td>\n",
       "      <td>JAPAN TO REVISE LONG-TERM ENERGY DEMAND DOWNWARDS\\n  The Ministry of International Trade and\\n  Industry (MITI) will revise its long-term energy supply/demand\\n  outlook by August to meet a forecast downtrend in Japanese\\n  energy demand, ministry officials said.\\n      MITI is expected to lower the projection for primary energy\\n  supplies in the year 2000 to 550 mln kilolitres (kl) from 600\\n  mln, they said.\\n      The decision follows the emergence of structural changes in\\n  Japanese industry following the rise in the value of the yen\\n  and a decline in domestic electric power demand.\\n      MITI is planning to work out a revised energy supply/demand\\n  outlook through deliberations of committee meetings of the\\n  Agency of Natural Resources and Energy, the officials said.\\n      They said MITI will also review the breakdown of energy\\n  supply sources, including oil, nuclear, coal and natural gas.\\n      Nuclear energy provided the bulk of Japan's electric power\\n  in the fiscal year ended March 31, supplying an estimated 27\\n  pct on a kilowatt/hour basis, followed by oil (23 pct) and\\n  liquefied natural gas (21 pct), they noted.\\n  \\n\\n</td>\n",
       "    </tr>\n",
       "    <tr>\n",
       "      <th>3</th>\n",
       "      <td>test/14832</td>\n",
       "      <td>corn</td>\n",
       "      <td>THAI TRADE DEFICIT WIDENS IN FIRST QUARTER\\n  Thailand's trade deficit widened to 4.5\\n  billion baht in the first quarter of 1987 from 2.1 billion a\\n  year ago, the Business Economics Department said.\\n      It said Janunary/March imports rose to 65.1 billion baht\\n  from 58.7 billion. Thailand's improved business climate this\\n  year resulted in a 27 pct increase in imports of raw materials\\n  and semi-finished products.\\n      The country's oil import bill, however, fell 23 pct in the\\n  first quarter due to lower oil prices.\\n      The department said first quarter exports expanded to 60.6\\n  billion baht from 56.6 billion.\\n      Export growth was smaller than expected due to lower\\n  earnings from many key commodities including rice whose\\n  earnings declined 18 pct, maize 66 pct, sugar 45 pct, tin 26\\n  pct and canned pineapples seven pct.\\n      Products registering high export growth were jewellery up\\n  64 pct, clothing 57 pct and rubber 35 pct.\\n  \\n\\n</td>\n",
       "    </tr>\n",
       "    <tr>\n",
       "      <th>4</th>\n",
       "      <td>test/14833</td>\n",
       "      <td>palm-oil</td>\n",
       "      <td>INDONESIA SEES CPO PRICE RISING SHARPLY\\n  Indonesia expects crude palm oil (CPO)\\n  prices to rise sharply to between 450 and 550 dlrs a tonne FOB\\n  sometime this year because of better European demand and a fall\\n  in Malaysian output, Hasrul Harahap, junior minister for tree\\n  crops, told Indonesian reporters.\\n      Prices of Malaysian and Sumatran CPO are now around 332\\n  dlrs a tonne CIF for delivery in Rotterdam, traders said.\\n      Harahap said Indonesia would maintain its exports, despite\\n  making recent palm oil purchases from Malaysia, so that it\\n  could possibly increase its international market share.\\n      Indonesia, the world's second largest producer of palm oil\\n  after Malaysia, has been forced to import palm oil to ensure\\n  supplies during the Moslem fasting month of Ramadan.\\n      Harahap said it was better to import to cover a temporary\\n  shortage than to lose export markets.\\n      Indonesian exports of CPO in calendar 1986 were 530,500\\n  tonnes, against 468,500 in 1985, according to central bank\\n  figures.\\n  \\n\\n</td>\n",
       "    </tr>\n",
       "  </tbody>\n",
       "</table>\n",
       "</div>"
      ],
      "text/plain": [
       "       fileid  category  \\\n",
       "0  test/14826     trade   \n",
       "1  test/14828     grain   \n",
       "2  test/14829     crude   \n",
       "3  test/14832      corn   \n",
       "4  test/14833  palm-oil   \n",
       "\n",
       "                                                                                                                                                                                                                                                                                                                                                                                                                                                                                                                                                                                                                                                                                                                                                                                                                                                                                                                                                                                                                                                                                                                                                                                                                                                                                                                                                                                                                                                                                                                                                                                                                                                                                                                                                                                                                                                                                                                                                                                                                                                                                                                                                                                                                                                                                                                                                                                                                                                                                                                                                                                                                                                                                                                                                                                                                                                                                                                                                                                                                                                                                                                                                                                                                                                                                                                                                                                                                                                                                                                                                                                                                                                                                                                                                                                                                                                                                                                                                                                                                                                                                                                                                                                                                                                                                                                                                                                                                                                                                                                                                                                                                                                                                                                                                                                                                                                                                                                                                                        text  \n",
       "0  ASIAN EXPORTERS FEAR DAMAGE FROM U.S.-JAPAN RIFT\\n  Mounting trade friction between the\\n  U.S. And Japan has raised fears among many of Asia's exporting\\n  nations that the row could inflict far-reaching economic\\n  damage, businessmen and officials said.\\n      They told Reuter correspondents in Asian capitals a U.S.\\n  Move against Japan might boost protectionist sentiment in the\\n  U.S. And lead to curbs on American imports of their products.\\n      But some exporters said that while the conflict would hurt\\n  them in the long-run, in the short-term Tokyo's loss might be\\n  their gain.\\n      The U.S. Has said it will impose 300 mln dlrs of tariffs on\\n  imports of Japanese electronics goods on April 17, in\\n  retaliation for Japan's alleged failure to stick to a pact not\\n  to sell semiconductors on world markets at below cost.\\n      Unofficial Japanese estimates put the impact of the tariffs\\n  at 10 billion dlrs and spokesmen for major electronics firms\\n  said they would virtually halt exports of products hit by the\\n  new taxes.\\n      \"We wouldn't be able to do business,\" said a spokesman for\\n  leading Japanese electronics firm Matsushita Electric\\n  Industrial Co Ltd &lt;MC.T>.\\n      \"If the tariffs remain in place for any length of time\\n  beyond a few months it will mean the complete erosion of\\n  exports (of goods subject to tariffs) to the U.S.,\" said Tom\\n  Murtha, a stock analyst at the Tokyo office of broker &lt;James\\n  Capel and Co>.\\n      In Taiwan, businessmen and officials are also worried.\\n      \"We are aware of the seriousness of the U.S. Threat against\\n  Japan because it serves as a warning to us,\" said a senior\\n  Taiwanese trade official who asked not to be named.\\n      Taiwan had a trade trade surplus of 15.6 billion dlrs last\\n  year, 95 pct of it with the U.S.\\n      The surplus helped swell Taiwan's foreign exchange reserves\\n  to 53 billion dlrs, among the world's largest.\\n      \"We must quickly open our markets, remove trade barriers and\\n  cut import tariffs to allow imports of U.S. Products, if we\\n  want to defuse problems from possible U.S. Retaliation,\" said\\n  Paul Sheen, chairman of textile exporters &lt;Taiwan Safe Group>.\\n      A senior official of South Korea's trade promotion\\n  association said the trade dispute between the U.S. And Japan\\n  might also lead to pressure on South Korea, whose chief exports\\n  are similar to those of Japan.\\n      Last year South Korea had a trade surplus of 7.1 billion\\n  dlrs with the U.S., Up from 4.9 billion dlrs in 1985.\\n      In Malaysia, trade officers and businessmen said tough\\n  curbs against Japan might allow hard-hit producers of\\n  semiconductors in third countries to expand their sales to the\\n  U.S.\\n      In Hong Kong, where newspapers have alleged Japan has been\\n  selling below-cost semiconductors, some electronics\\n  manufacturers share that view. But other businessmen said such\\n  a short-term commercial advantage would be outweighed by\\n  further U.S. Pressure to block imports.\\n      \"That is a very short-term view,\" said Lawrence Mills,\\n  director-general of the Federation of Hong Kong Industry.\\n      \"If the whole purpose is to prevent imports, one day it will\\n  be extended to other sources. Much more serious for Hong Kong\\n  is the disadvantage of action restraining trade,\" he said.\\n      The U.S. Last year was Hong Kong's biggest export market,\\n  accounting for over 30 pct of domestically produced exports.\\n      The Australian government is awaiting the outcome of trade\\n  talks between the U.S. And Japan with interest and concern,\\n  Industry Minister John Button said in Canberra last Friday.\\n      \"This kind of deterioration in trade relations between two\\n  countries which are major trading partners of ours is a very\\n  serious matter,\" Button said.\\n      He said Australia's concerns centred on coal and beef,\\n  Australia's two largest exports to Japan and also significant\\n  U.S. Exports to that country.\\n      Meanwhile U.S.-Japanese diplomatic manoeuvres to solve the\\n  trade stand-off continue.\\n      Japan's ruling Liberal Democratic Party yesterday outlined\\n  a package of economic measures to boost the Japanese economy.\\n      The measures proposed include a large supplementary budget\\n  and record public works spending in the first half of the\\n  financial year.\\n      They also call for stepped-up spending as an emergency\\n  measure to stimulate the economy despite Prime Minister\\n  Yasuhiro Nakasone's avowed fiscal reform program.\\n      Deputy U.S. Trade Representative Michael Smith and Makoto\\n  Kuroda, Japan's deputy minister of International Trade and\\n  Industry (MITI), are due to meet in Washington this week in an\\n  effort to end the dispute.\\n  \\n\\n  \n",
       "1                                                                                                                                                                                                                                                                                                                                                                                                                                                                                                                                                                                                                                                                                                                                                                                                                                                                                                                                                                                                                                                                                                                                                                                                                                                                                                                                                                                                                                                                                                                                                                                                                                                                                                                                                                                                                                                                                                                                                                                                                                                                                                                                                                                                                                                                                                                                                                                                                                                                                                                                                                                                                                                                                                                                                                                                                                                                                                                                                                                                                                                                                                                                                                                                                                                                                                                                                                                                                                                                                                                                                                                                                                                                                                                                                                                                                                                                                                                                                                                                                                                                                                                                                                                                                                                                         CHINA DAILY SAYS VERMIN EAT 7-12 PCT GRAIN STOCKS\\n  A survey of 19 provinces and seven cities\\n  showed vermin consume between seven and 12 pct of China's grain\\n  stocks, the China Daily said.\\n      It also said that each year 1.575 mln tonnes, or 25 pct, of\\n  China's fruit output are left to rot, and 2.1 mln tonnes, or up\\n  to 30 pct, of its vegetables. The paper blamed the waste on\\n  inadequate storage and bad preservation methods.\\n      It said the government had launched a national programme to\\n  reduce waste, calling for improved technology in storage and\\n  preservation, and greater production of additives. The paper\\n  gave no further details.\\n  \\n\\n  \n",
       "2                                                                                                                                                                                                                                                                                                                                                                                                                                                                                                                                                                                                                                                                                                                                                                                                                                                                                                                                                                                                                                                                                                                                                                                                                                                                                                                                                                                                                                                                                                                                                                                                                                                                                                                                                                                                                                                                                                                                                                                                                                                                                                                                                                                                                                                                                                                                                                                                                                                                                                                                                                                                                                                                                                                                                                                                                                                                                                                                                                                                                                                                                                                                                                                                                                                                                                                                                                                                                                                                                                                                                                                                                                                                                                                                                               JAPAN TO REVISE LONG-TERM ENERGY DEMAND DOWNWARDS\\n  The Ministry of International Trade and\\n  Industry (MITI) will revise its long-term energy supply/demand\\n  outlook by August to meet a forecast downtrend in Japanese\\n  energy demand, ministry officials said.\\n      MITI is expected to lower the projection for primary energy\\n  supplies in the year 2000 to 550 mln kilolitres (kl) from 600\\n  mln, they said.\\n      The decision follows the emergence of structural changes in\\n  Japanese industry following the rise in the value of the yen\\n  and a decline in domestic electric power demand.\\n      MITI is planning to work out a revised energy supply/demand\\n  outlook through deliberations of committee meetings of the\\n  Agency of Natural Resources and Energy, the officials said.\\n      They said MITI will also review the breakdown of energy\\n  supply sources, including oil, nuclear, coal and natural gas.\\n      Nuclear energy provided the bulk of Japan's electric power\\n  in the fiscal year ended March 31, supplying an estimated 27\\n  pct on a kilowatt/hour basis, followed by oil (23 pct) and\\n  liquefied natural gas (21 pct), they noted.\\n  \\n\\n  \n",
       "3                                                                                                                                                                                                                                                                                                                                                                                                                                                                                                                                                                                                                                                                                                                                                                                                                                                                                                                                                                                                                                                                                                                                                                                                                                                                                                                                                                                                                                                                                                                                                                                                                                                                                                                                                                                                                                                                                                                                                                                                                                                                                                                                                                                                                                                                                                                                                                                                                                                                                                                                                                                                                                                                                                                                                                                                                                                                                                                                                                                                                                                                                                                                                                                                                                                                                                                                                                                                                                                                                                                                                                                                                                                                                                                                                                                                                                                                                                                                                         THAI TRADE DEFICIT WIDENS IN FIRST QUARTER\\n  Thailand's trade deficit widened to 4.5\\n  billion baht in the first quarter of 1987 from 2.1 billion a\\n  year ago, the Business Economics Department said.\\n      It said Janunary/March imports rose to 65.1 billion baht\\n  from 58.7 billion. Thailand's improved business climate this\\n  year resulted in a 27 pct increase in imports of raw materials\\n  and semi-finished products.\\n      The country's oil import bill, however, fell 23 pct in the\\n  first quarter due to lower oil prices.\\n      The department said first quarter exports expanded to 60.6\\n  billion baht from 56.6 billion.\\n      Export growth was smaller than expected due to lower\\n  earnings from many key commodities including rice whose\\n  earnings declined 18 pct, maize 66 pct, sugar 45 pct, tin 26\\n  pct and canned pineapples seven pct.\\n      Products registering high export growth were jewellery up\\n  64 pct, clothing 57 pct and rubber 35 pct.\\n  \\n\\n  \n",
       "4                                                                                                                                                                                                                                                                                                                                                                                                                                                                                                                                                                                                                                                                                                                                                                                                                                                                                                                                                                                                                                                                                                                                                                                                                                                                                                                                                                                                                                                                                                                                                                                                                                                                                                                                                                                                                                                                                                                                                                                                                                                                                                                                                                                                                                                                                                                                                                                                                                                                                                                                                                                                                                                                                                                                                                                                                                                                                                                                                                                                                                                                                                                                                                                                                                                                                                                                                                                                                                                                                                                                                                                                                                                                                                                                                                                                                                                                   INDONESIA SEES CPO PRICE RISING SHARPLY\\n  Indonesia expects crude palm oil (CPO)\\n  prices to rise sharply to between 450 and 550 dlrs a tonne FOB\\n  sometime this year because of better European demand and a fall\\n  in Malaysian output, Hasrul Harahap, junior minister for tree\\n  crops, told Indonesian reporters.\\n      Prices of Malaysian and Sumatran CPO are now around 332\\n  dlrs a tonne CIF for delivery in Rotterdam, traders said.\\n      Harahap said Indonesia would maintain its exports, despite\\n  making recent palm oil purchases from Malaysia, so that it\\n  could possibly increase its international market share.\\n      Indonesia, the world's second largest producer of palm oil\\n  after Malaysia, has been forced to import palm oil to ensure\\n  supplies during the Moslem fasting month of Ramadan.\\n      Harahap said it was better to import to cover a temporary\\n  shortage than to lose export markets.\\n      Indonesian exports of CPO in calendar 1986 were 530,500\\n  tonnes, against 468,500 in 1985, according to central bank\\n  figures.\\n  \\n\\n  "
      ]
     },
     "execution_count": 21,
     "metadata": {},
     "output_type": "execute_result"
    }
   ],
   "source": [
    "df.head()"
   ]
  },
  {
   "cell_type": "code",
   "execution_count": 5,
   "id": "fdfc2560",
   "metadata": {},
   "outputs": [
    {
     "name": "stdout",
     "output_type": "stream",
     "text": [
      "108\n"
     ]
    }
   ],
   "source": [
    "# let's count the number of words in some articles and chose the one with less words for practice\n",
    "# This code will split the text in the first row by whitespace using the split() method, and then count the number of resulting words using the len() function.\n",
    "# without the .split() it will count number of characters.\n",
    "\n",
    "num_words = len(df.loc[1, 'text'].split())\n",
    "print(num_words)"
   ]
  },
  {
   "cell_type": "markdown",
   "id": "afd5cfcd",
   "metadata": {},
   "source": [
    "second row has 108 words, we will just use that for now"
   ]
  },
  {
   "cell_type": "code",
   "execution_count": 6,
   "id": "2d8fd7c4",
   "metadata": {},
   "outputs": [
    {
     "data": {
      "text/plain": [
       "pandas.core.frame.DataFrame"
      ]
     },
     "execution_count": 6,
     "metadata": {},
     "output_type": "execute_result"
    }
   ],
   "source": [
    "# use multilist so that you have a dataframe else you will have a series when it is a single row\n",
    "type(df.loc[[1]])"
   ]
  },
  {
   "cell_type": "code",
   "execution_count": 7,
   "id": "88ed4215",
   "metadata": {},
   "outputs": [
    {
     "data": {
      "text/html": [
       "<div>\n",
       "<style scoped>\n",
       "    .dataframe tbody tr th:only-of-type {\n",
       "        vertical-align: middle;\n",
       "    }\n",
       "\n",
       "    .dataframe tbody tr th {\n",
       "        vertical-align: top;\n",
       "    }\n",
       "\n",
       "    .dataframe thead th {\n",
       "        text-align: right;\n",
       "    }\n",
       "</style>\n",
       "<table border=\"1\" class=\"dataframe\">\n",
       "  <thead>\n",
       "    <tr style=\"text-align: right;\">\n",
       "      <th></th>\n",
       "      <th>fileid</th>\n",
       "      <th>category</th>\n",
       "      <th>text</th>\n",
       "    </tr>\n",
       "  </thead>\n",
       "  <tbody>\n",
       "    <tr>\n",
       "      <th>1</th>\n",
       "      <td>test/14828</td>\n",
       "      <td>grain</td>\n",
       "      <td>CHINA DAILY SAYS VERMIN EAT 7-12 PCT GRAIN STOCKS\\n  A survey of 19 provinces and seven cities\\n  showed vermin consume between seven and 12 pct of China's grain\\n  stocks, the China Daily said.\\n      It also said that each year 1.575 mln tonnes, or 25 pct, of\\n  China's fruit output are left to rot, and 2.1 mln tonnes, or up\\n  to 30 pct, of its vegetables. The paper blamed the waste on\\n  inadequate storage and bad preservation methods.\\n      It said the government had launched a national programme to\\n  reduce waste, calling for improved technology in storage and\\n  preservation, and greater production of additives. The paper\\n  gave no further details.\\n  \\n\\n</td>\n",
       "    </tr>\n",
       "  </tbody>\n",
       "</table>\n",
       "</div>"
      ],
      "text/plain": [
       "       fileid category  \\\n",
       "1  test/14828    grain   \n",
       "\n",
       "                                                                                                                                                                                                                                                                                                                                                                                                                                                                                                                                                                                                                                                                                                 text  \n",
       "1  CHINA DAILY SAYS VERMIN EAT 7-12 PCT GRAIN STOCKS\\n  A survey of 19 provinces and seven cities\\n  showed vermin consume between seven and 12 pct of China's grain\\n  stocks, the China Daily said.\\n      It also said that each year 1.575 mln tonnes, or 25 pct, of\\n  China's fruit output are left to rot, and 2.1 mln tonnes, or up\\n  to 30 pct, of its vegetables. The paper blamed the waste on\\n  inadequate storage and bad preservation methods.\\n      It said the government had launched a national programme to\\n  reduce waste, calling for improved technology in storage and\\n  preservation, and greater production of additives. The paper\\n  gave no further details.\\n  \\n\\n  "
      ]
     },
     "execution_count": 7,
     "metadata": {},
     "output_type": "execute_result"
    }
   ],
   "source": [
    "df= df.loc[[1]]\n",
    "df.head()"
   ]
  },
  {
   "cell_type": "code",
   "execution_count": 8,
   "id": "25b39388",
   "metadata": {},
   "outputs": [
    {
     "data": {
      "text/plain": [
       "1    CHINA DAILY SAYS VERMIN EAT 7-12 PCT GRAIN STOCKS\\n  A survey of 19 provinces and seven cities\\n  showed vermin consume between seven and 12 pct of China's grain\\n  stocks, the China Daily said.\\n      It also said that each year 1.575 mln tonnes, or 25 pct, of\\n  China's fruit output are left to rot, and 2.1 mln tonnes, or up\\n  to 30 pct, of its vegetables. The paper blamed the waste on\\n  inadequate storage and bad preservation methods.\\n      It said the government had launched a national programme to\\n  reduce waste, calling for improved technology in storage and\\n  preservation, and greater production of additives. The paper\\n  gave no further details.\\n  \\n\\n\n",
       "Name: text, dtype: object"
      ]
     },
     "execution_count": 8,
     "metadata": {},
     "output_type": "execute_result"
    }
   ],
   "source": [
    "df['text']"
   ]
  },
  {
   "cell_type": "code",
   "execution_count": 9,
   "id": "40f8cdf3",
   "metadata": {},
   "outputs": [
    {
     "name": "stderr",
     "output_type": "stream",
     "text": [
      "[nltk_data] Downloading package stopwords to\n",
      "[nltk_data]     /Users/swapnil/nltk_data...\n",
      "[nltk_data]   Package stopwords is already up-to-date!\n",
      "[nltk_data] Downloading package omw-1.4 to /Users/swapnil/nltk_data...\n",
      "[nltk_data]   Package omw-1.4 is already up-to-date!\n",
      "[nltk_data] Downloading package wordnet to /Users/swapnil/nltk_data...\n",
      "[nltk_data]   Package wordnet is already up-to-date!\n"
     ]
    }
   ],
   "source": [
    "# Perform text preprocessing on the words\n",
    "from nltk.tokenize import word_tokenize\n",
    "from nltk.corpus import stopwords\n",
    "nltk.download('stopwords')\n",
    "\n",
    "nltk.download('omw-1.4')\n",
    "nltk.download('wordnet')\n",
    "from nltk.stem import WordNetLemmatizer\n",
    "\n",
    "stop_words = set(stopwords.words('english'))\n",
    "wordnet_lemmatizer = WordNetLemmatizer()"
   ]
  },
  {
   "cell_type": "code",
   "execution_count": 10,
   "id": "48561403",
   "metadata": {},
   "outputs": [],
   "source": [
    "# create a function to apply pre-processing\n",
    "\n",
    "def preprocess_text(text):\n",
    "    \n",
    "    # Convert the text to lowercase\n",
    "    text = text.lower()\n",
    "    \n",
    "    # Tokenize the text into words\n",
    "    words = word_tokenize(text)\n",
    "    \n",
    "    # Remove stop words and punctuation\n",
    "    #words = [word for word in words if word.isalpha() and word not in stop_words]\n",
    "    \n",
    "    import string\n",
    "\n",
    "    # Remove punctuations from the tokens\n",
    "    words = [token for token in words if token not in string.punctuation]\n",
    "\n",
    "\n",
    "    # Remove stop words from the tokens\n",
    "    words = [token for token in words if token not in stop_words]\n",
    "\n",
    "\n",
    "    # Lemmatize the words\n",
    "    words = [wordnet_lemmatizer.lemmatize(word) for word in words]\n",
    "    \n",
    "    # Handle ackronyms\n",
    "    expanded_terms = {\n",
    "    'pct': 'percentage',\n",
    "    'mln':'million'\n",
    "    }\n",
    "\n",
    "    words = [expanded_terms.get(word, word) for word in words]\n",
    "    \n",
    "    # Convert the list of words back into a string\n",
    "    preprocessed_text = ' '.join(words)\n",
    "    \n",
    "    return preprocessed_text"
   ]
  },
  {
   "cell_type": "code",
   "execution_count": 11,
   "id": "9f020d80",
   "metadata": {},
   "outputs": [],
   "source": [
    "# apply function on text column\n",
    "df['clean_text'] = df['text'].apply(preprocess_text)"
   ]
  },
  {
   "cell_type": "code",
   "execution_count": 13,
   "id": "7c71c73b",
   "metadata": {},
   "outputs": [
    {
     "data": {
      "text/plain": [
       "1    china daily say vermin eat 7-12 percentage grain stock survey 19 province seven city showed vermin consume seven 12 percentage china 's grain stock china daily said also said year 1.575 million tonne 25 percentage china 's fruit output left rot 2.1 million tonne 30 percentage vegetable paper blamed waste inadequate storage bad preservation method said government launched national programme reduce waste calling improved technology storage preservation greater production additive paper gave detail\n",
       "Name: clean_text, dtype: object"
      ]
     },
     "execution_count": 13,
     "metadata": {},
     "output_type": "execute_result"
    }
   ],
   "source": [
    "df.clean_text"
   ]
  },
  {
   "cell_type": "markdown",
   "id": "004cce7e",
   "metadata": {},
   "source": [
    "    "
   ]
  },
  {
   "cell_type": "markdown",
   "id": "a6a53802",
   "metadata": {},
   "source": [
    "# We can avoid this, since it is coming from reuters articles\n",
    "#!pip install autocorrect\n",
    "import autocorrect\n",
    "\n",
    "spell = autocorrect.Speller(lang='en')\n",
    "\n",
    "#tokens = ['This', 'is', 'speling', 'misstake']\n",
    "corrected_tokens = [spell.autocorrect_word(token) for token in expanded_tokens]print('Corrected tokens:', corrected_tokens)"
   ]
  },
  {
   "cell_type": "markdown",
   "id": "0d4dc532",
   "metadata": {},
   "source": [
    "    "
   ]
  },
  {
   "cell_type": "markdown",
   "id": "3c2efa27",
   "metadata": {},
   "source": [
    "# N-Grams"
   ]
  },
  {
   "cell_type": "code",
   "execution_count": 14,
   "id": "8e637caa",
   "metadata": {},
   "outputs": [],
   "source": [
    "# import CountVectorizer\n",
    "from sklearn.feature_extraction.text import CountVectorizer\n",
    "\n",
    "# pass Ngrams as a tuple (2,2) for bigram, (1,2) for a cobination of both unigram and bigram\n",
    "cv = CountVectorizer(ngram_range=(2,2))"
   ]
  },
  {
   "cell_type": "code",
   "execution_count": 19,
   "id": "ca85d0fd",
   "metadata": {},
   "outputs": [],
   "source": [
    "# Fit and transform the text\n",
    "ngrams = cv.fit_transform(df['clean_text'])"
   ]
  },
  {
   "cell_type": "code",
   "execution_count": 16,
   "id": "b0089f81",
   "metadata": {},
   "outputs": [
    {
     "name": "stdout",
     "output_type": "stream",
     "text": [
      "['12 percentage', '19 province', '25 percentage', '30 percentage', '575 million', 'additive paper', 'also said', 'bad preservation', 'blamed waste', 'calling improved', 'china daily', 'china fruit', 'china grain', 'city showed', 'consume seven', 'daily said', 'daily say', 'eat 12', 'fruit output', 'gave detail', 'government launched', 'grain stock', 'greater production', 'improved technology', 'inadequate storage', 'launched national', 'left rot', 'method said', 'million tonne', 'national programme', 'output left', 'paper blamed', 'paper gave', 'percentage china', 'percentage grain', 'percentage vegetable', 'preservation greater', 'preservation method', 'production additive', 'programme reduce', 'province seven', 'reduce waste', 'rot million', 'said also', 'said government', 'said year', 'say vermin', 'seven 12', 'seven city', 'showed vermin', 'stock china', 'stock survey', 'storage bad', 'storage preservation', 'survey 19', 'technology storage', 'tonne 25', 'tonne 30', 'vegetable paper', 'vermin consume', 'vermin eat', 'waste calling', 'waste inadequate', 'year 575']\n"
     ]
    }
   ],
   "source": [
    "# the vocabulary is stored in 'cv.vocabulary_'\n",
    "# sort the keys\n",
    "vocab = sorted(cv.vocabulary_.keys())\n",
    "\n",
    "print(vocab)"
   ]
  },
  {
   "cell_type": "markdown",
   "id": "71695e42",
   "metadata": {},
   "source": [
    "#### index starts with 0. '12' has an index 0, '19' has an index 1, and so on."
   ]
  },
  {
   "cell_type": "code",
   "execution_count": 22,
   "id": "116f768f",
   "metadata": {},
   "outputs": [
    {
     "name": "stdout",
     "output_type": "stream",
     "text": [
      "0 : 12 percentage\n",
      "1 : 19 province\n",
      "2 : 25 percentage\n",
      "3 : 30 percentage\n",
      "4 : 575 million\n",
      "5 : additive paper\n",
      "6 : also said\n",
      "7 : bad preservation\n",
      "8 : blamed waste\n",
      "9 : calling improved\n",
      "10 : china daily\n",
      "11 : china fruit\n",
      "12 : china grain\n",
      "13 : city showed\n",
      "14 : consume seven\n",
      "15 : daily said\n",
      "16 : daily say\n",
      "17 : eat 12\n",
      "18 : fruit output\n",
      "19 : gave detail\n",
      "20 : government launched\n",
      "21 : grain stock\n",
      "22 : greater production\n",
      "23 : improved technology\n",
      "24 : inadequate storage\n",
      "25 : launched national\n",
      "26 : left rot\n",
      "27 : method said\n",
      "28 : million tonne\n",
      "29 : national programme\n",
      "30 : output left\n",
      "31 : paper blamed\n",
      "32 : paper gave\n",
      "33 : percentage china\n",
      "34 : percentage grain\n",
      "35 : percentage vegetable\n",
      "36 : preservation greater\n",
      "37 : preservation method\n",
      "38 : production additive\n",
      "39 : programme reduce\n",
      "40 : province seven\n",
      "41 : reduce waste\n",
      "42 : rot million\n",
      "43 : said also\n",
      "44 : said government\n",
      "45 : said year\n",
      "46 : say vermin\n",
      "47 : seven 12\n",
      "48 : seven city\n",
      "49 : showed vermin\n",
      "50 : stock china\n",
      "51 : stock survey\n",
      "52 : storage bad\n",
      "53 : storage preservation\n",
      "54 : survey 19\n",
      "55 : technology storage\n",
      "56 : tonne 25\n",
      "57 : tonne 30\n",
      "58 : vegetable paper\n",
      "59 : vermin consume\n",
      "60 : vermin eat\n",
      "61 : waste calling\n",
      "62 : waste inadequate\n",
      "63 : year 575\n"
     ]
    }
   ],
   "source": [
    "# to print index and values iterate over the sorted keys and print the key-value pairs\n",
    "for key in vocab:\n",
    "    print(cv.vocabulary_[key], ':',key )"
   ]
  },
  {
   "cell_type": "code",
   "execution_count": 20,
   "id": "1f40476a",
   "metadata": {},
   "outputs": [
    {
     "name": "stdout",
     "output_type": "stream",
     "text": [
      "[[2 1 1 1 1 1 1 1 1 1 2 1 1 1 1 1 1 1 1 1 1 2 1 1 1 1 1 1 2 1 1 1 1 2 1 1\n",
      "  1 1 1 1 1 1 1 1 1 1 1 1 1 1 1 1 1 1 1 1 1 1 1 1 1 1 1 1]]\n"
     ]
    }
   ],
   "source": [
    "# print ngrams\n",
    "print(ngrams[0].toarray())"
   ]
  },
  {
   "cell_type": "markdown",
   "id": "88512901",
   "metadata": {},
   "source": [
    "#### Because this is a vocab only from one article, the bag of words for that article will not have any zeros."
   ]
  },
  {
   "cell_type": "code",
   "execution_count": 21,
   "id": "39ea683a",
   "metadata": {},
   "outputs": [
    {
     "data": {
      "text/plain": [
       "array([[0, 0, 0, 0, 0, 0, 0, 0, 0, 0, 0, 0, 0, 0, 0, 0, 0, 0, 0, 0, 0, 0,\n",
       "        0, 1, 0, 0, 0, 0, 0, 0, 0, 0, 0, 0, 0, 0, 0, 0, 0, 0, 0, 0, 0, 0,\n",
       "        0, 0, 0, 0, 0, 0, 0, 0, 0, 0, 0, 0, 0, 0, 0, 0, 0, 0, 0, 0]])"
      ]
     },
     "execution_count": 21,
     "metadata": {},
     "output_type": "execute_result"
    }
   ],
   "source": [
    "# Create a ngram for a sample statement using the same vocabulary\n",
    "cv.transform(['china governmet launched improved technology']).toarray()"
   ]
  },
  {
   "cell_type": "markdown",
   "id": "b823cf6e",
   "metadata": {},
   "source": [
    "    "
   ]
  },
  {
   "cell_type": "markdown",
   "id": "236ac1d2",
   "metadata": {},
   "source": [
    "bigrams formed are : 'china government', ' government launched', 'launched improved', 'improved technology'. **improved technology** is in index 23, therefore you will see '1' in index 23 above."
   ]
  },
  {
   "cell_type": "code",
   "execution_count": 25,
   "id": "83cd9870",
   "metadata": {},
   "outputs": [
    {
     "name": "stderr",
     "output_type": "stream",
     "text": [
      "/Users/swapnil/opt/anaconda3/lib/python3.9/site-packages/sklearn/utils/deprecation.py:87: FutureWarning: Function get_feature_names is deprecated; get_feature_names is deprecated in 1.0 and will be removed in 1.2. Please use get_feature_names_out instead.\n",
      "  warnings.warn(msg, category=FutureWarning)\n"
     ]
    }
   ],
   "source": [
    "# Convert bag of words to a Pandas DataFrame\n",
    "ngrams_df = pd.DataFrame.sparse.from_spmatrix(ngrams, columns=cv.get_feature_names())"
   ]
  },
  {
   "cell_type": "code",
   "execution_count": 26,
   "id": "d0a2ce4c",
   "metadata": {},
   "outputs": [
    {
     "data": {
      "text/html": [
       "<div>\n",
       "<style scoped>\n",
       "    .dataframe tbody tr th:only-of-type {\n",
       "        vertical-align: middle;\n",
       "    }\n",
       "\n",
       "    .dataframe tbody tr th {\n",
       "        vertical-align: top;\n",
       "    }\n",
       "\n",
       "    .dataframe thead th {\n",
       "        text-align: right;\n",
       "    }\n",
       "</style>\n",
       "<table border=\"1\" class=\"dataframe\">\n",
       "  <thead>\n",
       "    <tr style=\"text-align: right;\">\n",
       "      <th></th>\n",
       "      <th>12 percentage</th>\n",
       "      <th>19 province</th>\n",
       "      <th>25 percentage</th>\n",
       "      <th>30 percentage</th>\n",
       "      <th>575 million</th>\n",
       "      <th>additive paper</th>\n",
       "      <th>also said</th>\n",
       "      <th>bad preservation</th>\n",
       "      <th>blamed waste</th>\n",
       "      <th>calling improved</th>\n",
       "      <th>...</th>\n",
       "      <th>survey 19</th>\n",
       "      <th>technology storage</th>\n",
       "      <th>tonne 25</th>\n",
       "      <th>tonne 30</th>\n",
       "      <th>vegetable paper</th>\n",
       "      <th>vermin consume</th>\n",
       "      <th>vermin eat</th>\n",
       "      <th>waste calling</th>\n",
       "      <th>waste inadequate</th>\n",
       "      <th>year 575</th>\n",
       "    </tr>\n",
       "  </thead>\n",
       "  <tbody>\n",
       "    <tr>\n",
       "      <th>0</th>\n",
       "      <td>2</td>\n",
       "      <td>1</td>\n",
       "      <td>1</td>\n",
       "      <td>1</td>\n",
       "      <td>1</td>\n",
       "      <td>1</td>\n",
       "      <td>1</td>\n",
       "      <td>1</td>\n",
       "      <td>1</td>\n",
       "      <td>1</td>\n",
       "      <td>...</td>\n",
       "      <td>1</td>\n",
       "      <td>1</td>\n",
       "      <td>1</td>\n",
       "      <td>1</td>\n",
       "      <td>1</td>\n",
       "      <td>1</td>\n",
       "      <td>1</td>\n",
       "      <td>1</td>\n",
       "      <td>1</td>\n",
       "      <td>1</td>\n",
       "    </tr>\n",
       "  </tbody>\n",
       "</table>\n",
       "<p>1 rows × 64 columns</p>\n",
       "</div>"
      ],
      "text/plain": [
       "   12 percentage  19 province  25 percentage  30 percentage  575 million  \\\n",
       "0              2            1              1              1            1   \n",
       "\n",
       "   additive paper  also said  bad preservation  blamed waste  \\\n",
       "0               1          1                 1             1   \n",
       "\n",
       "   calling improved  ...  survey 19  technology storage  tonne 25  tonne 30  \\\n",
       "0                 1  ...          1                   1         1         1   \n",
       "\n",
       "   vegetable paper  vermin consume  vermin eat  waste calling  \\\n",
       "0                1               1           1              1   \n",
       "\n",
       "   waste inadequate  year 575  \n",
       "0                 1         1  \n",
       "\n",
       "[1 rows x 64 columns]"
      ]
     },
     "execution_count": 26,
     "metadata": {},
     "output_type": "execute_result"
    }
   ],
   "source": [
    "ngrams_df"
   ]
  },
  {
   "cell_type": "code",
   "execution_count": 27,
   "id": "9d94b8b9",
   "metadata": {},
   "outputs": [],
   "source": [
    "# Add the dataframe to the original dataframe\n",
    "ngrams_df['category'] = 'grain'\n"
   ]
  },
  {
   "cell_type": "code",
   "execution_count": 28,
   "id": "d8421c8a",
   "metadata": {},
   "outputs": [
    {
     "data": {
      "text/html": [
       "<div>\n",
       "<style scoped>\n",
       "    .dataframe tbody tr th:only-of-type {\n",
       "        vertical-align: middle;\n",
       "    }\n",
       "\n",
       "    .dataframe tbody tr th {\n",
       "        vertical-align: top;\n",
       "    }\n",
       "\n",
       "    .dataframe thead th {\n",
       "        text-align: right;\n",
       "    }\n",
       "</style>\n",
       "<table border=\"1\" class=\"dataframe\">\n",
       "  <thead>\n",
       "    <tr style=\"text-align: right;\">\n",
       "      <th></th>\n",
       "      <th>12 percentage</th>\n",
       "      <th>19 province</th>\n",
       "      <th>25 percentage</th>\n",
       "      <th>30 percentage</th>\n",
       "      <th>575 million</th>\n",
       "      <th>additive paper</th>\n",
       "      <th>also said</th>\n",
       "      <th>bad preservation</th>\n",
       "      <th>blamed waste</th>\n",
       "      <th>calling improved</th>\n",
       "      <th>...</th>\n",
       "      <th>technology storage</th>\n",
       "      <th>tonne 25</th>\n",
       "      <th>tonne 30</th>\n",
       "      <th>vegetable paper</th>\n",
       "      <th>vermin consume</th>\n",
       "      <th>vermin eat</th>\n",
       "      <th>waste calling</th>\n",
       "      <th>waste inadequate</th>\n",
       "      <th>year 575</th>\n",
       "      <th>category</th>\n",
       "    </tr>\n",
       "  </thead>\n",
       "  <tbody>\n",
       "    <tr>\n",
       "      <th>0</th>\n",
       "      <td>2</td>\n",
       "      <td>1</td>\n",
       "      <td>1</td>\n",
       "      <td>1</td>\n",
       "      <td>1</td>\n",
       "      <td>1</td>\n",
       "      <td>1</td>\n",
       "      <td>1</td>\n",
       "      <td>1</td>\n",
       "      <td>1</td>\n",
       "      <td>...</td>\n",
       "      <td>1</td>\n",
       "      <td>1</td>\n",
       "      <td>1</td>\n",
       "      <td>1</td>\n",
       "      <td>1</td>\n",
       "      <td>1</td>\n",
       "      <td>1</td>\n",
       "      <td>1</td>\n",
       "      <td>1</td>\n",
       "      <td>grain</td>\n",
       "    </tr>\n",
       "  </tbody>\n",
       "</table>\n",
       "<p>1 rows × 65 columns</p>\n",
       "</div>"
      ],
      "text/plain": [
       "   12 percentage  19 province  25 percentage  30 percentage  575 million  \\\n",
       "0              2            1              1              1            1   \n",
       "\n",
       "   additive paper  also said  bad preservation  blamed waste  \\\n",
       "0               1          1                 1             1   \n",
       "\n",
       "   calling improved  ...  technology storage  tonne 25  tonne 30  \\\n",
       "0                 1  ...                   1         1         1   \n",
       "\n",
       "   vegetable paper  vermin consume  vermin eat  waste calling  \\\n",
       "0                1               1           1              1   \n",
       "\n",
       "   waste inadequate  year 575  category  \n",
       "0                 1         1     grain  \n",
       "\n",
       "[1 rows x 65 columns]"
      ]
     },
     "execution_count": 28,
     "metadata": {},
     "output_type": "execute_result"
    }
   ],
   "source": [
    "# features and target\n",
    "ngrams_df"
   ]
  },
  {
   "cell_type": "code",
   "execution_count": null,
   "id": "afa72637",
   "metadata": {},
   "outputs": [],
   "source": []
  }
 ],
 "metadata": {
  "kernelspec": {
   "display_name": "Python 3 (ipykernel)",
   "language": "python",
   "name": "python3"
  },
  "language_info": {
   "codemirror_mode": {
    "name": "ipython",
    "version": 3
   },
   "file_extension": ".py",
   "mimetype": "text/x-python",
   "name": "python",
   "nbconvert_exporter": "python",
   "pygments_lexer": "ipython3",
   "version": "3.9.13"
  }
 },
 "nbformat": 4,
 "nbformat_minor": 5
}
