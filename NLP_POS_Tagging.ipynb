{
 "cells": [
  {
   "cell_type": "markdown",
   "id": "65f517ad",
   "metadata": {},
   "source": [
    "# Implementation of POS-Tagging"
   ]
  },
  {
   "cell_type": "markdown",
   "id": "a0c6c53e",
   "metadata": {},
   "source": [
    "    "
   ]
  },
  {
   "cell_type": "markdown",
   "id": "fea7cf85",
   "metadata": {},
   "source": [
    "**Part-of-speech (POS)** tagging is the process of assigning a grammatical tag or label to each word in a sentence to identify its syntactic function in the sentence. The tags are typically defined by a set of linguistic rules or a machine learning algorithm trained on a labeled corpus.\n",
    "\n",
    "For example, consider the sentence: `\"The cat sat on the mat\"`. A POS tagger would assign a tag to each word as follows:\n",
    "\n",
    "* `\"The\"` is a determiner\n",
    "* `\"cat\"` is a noun\n",
    "* `\"sat\"` is a verb\n",
    "* `\"on\"` is a preposition\n",
    "* `\"the\"` is a determiner\n",
    "* `\"mat\"` is a noun\n",
    "\n",
    "The complete sequence of POS tags for this sentence would be: `DET NOUN VERB ADP DET NOUN`.\n",
    "\n",
    "POS tagging is useful in many natural language processing applications such as text-to-speech systems, machine translation, and text analysis. By identifying the parts of speech in a sentence, a computer program can better understand the meaning and structure of the text, and can use that information to perform various tasks."
   ]
  },
  {
   "cell_type": "markdown",
   "id": "27e4a8ad",
   "metadata": {},
   "source": [
    "    "
   ]
  },
  {
   "cell_type": "markdown",
   "id": "978e4bd4",
   "metadata": {},
   "source": [
    "## Spacy\n",
    "\n",
    "**Spacy** is a popular open-source natural language processing (NLP) library that can be used for many NLP tasks, including **part-of-speech (POS)** tagging.\n",
    "\n",
    "Spacy's POS tagging functionality is based on statistical models that have been trained on large annotated corpora. These models use contextual information to predict the most likely POS tags for each word in a given sentence or document. Spacy also provides pre-trained models for several languages, including English, Spanish, French, and German.\n",
    "\n",
    "To perform POS tagging using Spacy, you would typically first load a language-specific model and then process the text you wish to tag using the model's pipeline. "
   ]
  },
  {
   "cell_type": "markdown",
   "id": "88a7e571",
   "metadata": {},
   "source": [
    "#install spacy\n",
    "!pip install spacy"
   ]
  },
  {
   "cell_type": "code",
   "execution_count": 1,
   "id": "4ffb55e9",
   "metadata": {},
   "outputs": [
    {
     "name": "stderr",
     "output_type": "stream",
     "text": [
      "2023-02-21 23:26:55.142978: I tensorflow/core/platform/cpu_feature_guard.cc:193] This TensorFlow binary is optimized with oneAPI Deep Neural Network Library (oneDNN) to use the following CPU instructions in performance-critical operations:  AVX2 FMA\n",
      "To enable them in other operations, rebuild TensorFlow with the appropriate compiler flags.\n"
     ]
    }
   ],
   "source": [
    "import spacy\n",
    "\n",
    "# Load the English language model\n",
    "nlp = spacy.load(\"en_core_web_sm\")\n",
    "\n",
    "import pandas as pd\n",
    "\n",
    "# This will help view all the text\n",
    "pd.set_option('display.max_colwidth', None)"
   ]
  },
  {
   "cell_type": "markdown",
   "id": "204ca058",
   "metadata": {},
   "source": [
    "If you get an error here, `Can't find model 'en_core_web_sm'`, you can install the `en_core_web_sm model` by running the following command in your terminal or command prompt:\n",
    "\n",
    "**`python -m spacy download en_core_web_sm`**\n"
   ]
  },
  {
   "cell_type": "code",
   "execution_count": 2,
   "id": "cc823c6c",
   "metadata": {},
   "outputs": [
    {
     "data": {
      "text/html": [
       "<div>\n",
       "<style scoped>\n",
       "    .dataframe tbody tr th:only-of-type {\n",
       "        vertical-align: middle;\n",
       "    }\n",
       "\n",
       "    .dataframe tbody tr th {\n",
       "        vertical-align: top;\n",
       "    }\n",
       "\n",
       "    .dataframe thead th {\n",
       "        text-align: right;\n",
       "    }\n",
       "</style>\n",
       "<table border=\"1\" class=\"dataframe\">\n",
       "  <thead>\n",
       "    <tr style=\"text-align: right;\">\n",
       "      <th></th>\n",
       "      <th>documentId</th>\n",
       "      <th>text</th>\n",
       "      <th>category</th>\n",
       "    </tr>\n",
       "  </thead>\n",
       "  <tbody>\n",
       "    <tr>\n",
       "      <th>0</th>\n",
       "      <td>1293</td>\n",
       "      <td>Climate change is a pressing issue that affects us all.</td>\n",
       "      <td>climate</td>\n",
       "    </tr>\n",
       "    <tr>\n",
       "      <th>1</th>\n",
       "      <td>1294</td>\n",
       "      <td>The Earth's temperature is rising due to human activities, such as the burning of fossil fuels and deforestation.</td>\n",
       "      <td>climate</td>\n",
       "    </tr>\n",
       "    <tr>\n",
       "      <th>2</th>\n",
       "      <td>1295</td>\n",
       "      <td>This has led to more extreme weather events, including hurricanes, floods, and droughts.</td>\n",
       "      <td>climate</td>\n",
       "    </tr>\n",
       "    <tr>\n",
       "      <th>3</th>\n",
       "      <td>1296</td>\n",
       "      <td>The consequences of climate change are already being felt around the world, with vulnerable populations, such as the poor and marginalized, bearing the brunt of the impact.</td>\n",
       "      <td>climate</td>\n",
       "    </tr>\n",
       "    <tr>\n",
       "      <th>4</th>\n",
       "      <td>1297</td>\n",
       "      <td>It's crucial that we take immediate action to reduce our carbon footprint and mitigate the effects of climate change.</td>\n",
       "      <td>climate</td>\n",
       "    </tr>\n",
       "  </tbody>\n",
       "</table>\n",
       "</div>"
      ],
      "text/plain": [
       "   documentId  \\\n",
       "0        1293   \n",
       "1        1294   \n",
       "2        1295   \n",
       "3        1296   \n",
       "4        1297   \n",
       "\n",
       "                                                                                                                                                                           text  \\\n",
       "0                                                                                                                       Climate change is a pressing issue that affects us all.   \n",
       "1                                                             The Earth's temperature is rising due to human activities, such as the burning of fossil fuels and deforestation.   \n",
       "2                                                                                      This has led to more extreme weather events, including hurricanes, floods, and droughts.   \n",
       "3  The consequences of climate change are already being felt around the world, with vulnerable populations, such as the poor and marginalized, bearing the brunt of the impact.   \n",
       "4                                                         It's crucial that we take immediate action to reduce our carbon footprint and mitigate the effects of climate change.   \n",
       "\n",
       "  category  \n",
       "0  climate  \n",
       "1  climate  \n",
       "2  climate  \n",
       "3  climate  \n",
       "4  climate  "
      ]
     },
     "execution_count": 2,
     "metadata": {},
     "output_type": "execute_result"
    }
   ],
   "source": [
    "# Load the sample corpus\n",
    "df = pd.read_csv('tfidf.csv')\n",
    "df"
   ]
  },
  {
   "cell_type": "code",
   "execution_count": 3,
   "id": "61895bf6",
   "metadata": {},
   "outputs": [],
   "source": [
    "# Define a function to apply POS tagging to each sentence\n",
    "def pos_tagging(text):\n",
    "    doc = nlp(text)\n",
    "    return [(token.text, token.pos_) for token in doc]\n",
    "\n",
    "# Apply the function to the 'text' column of the DataFrame\n",
    "df['pos_tags'] = df['text'].apply(pos_tagging)"
   ]
  },
  {
   "cell_type": "code",
   "execution_count": 9,
   "id": "7479060f",
   "metadata": {},
   "outputs": [
    {
     "data": {
      "text/html": [
       "<div>\n",
       "<style scoped>\n",
       "    .dataframe tbody tr th:only-of-type {\n",
       "        vertical-align: middle;\n",
       "    }\n",
       "\n",
       "    .dataframe tbody tr th {\n",
       "        vertical-align: top;\n",
       "    }\n",
       "\n",
       "    .dataframe thead th {\n",
       "        text-align: right;\n",
       "    }\n",
       "</style>\n",
       "<table border=\"1\" class=\"dataframe\">\n",
       "  <thead>\n",
       "    <tr style=\"text-align: right;\">\n",
       "      <th></th>\n",
       "      <th>documentId</th>\n",
       "      <th>text</th>\n",
       "      <th>category</th>\n",
       "      <th>pos_tags</th>\n",
       "    </tr>\n",
       "  </thead>\n",
       "  <tbody>\n",
       "    <tr>\n",
       "      <th>0</th>\n",
       "      <td>1293</td>\n",
       "      <td>Climate change is a pressing issue that affects us all.</td>\n",
       "      <td>climate</td>\n",
       "      <td>[(Climate, NOUN), (change, NOUN), (is, AUX), (a, DET), (pressing, VERB), (issue, NOUN), (that, PRON), (affects, VERB), (us, PRON), (all, PRON), (., PUNCT)]</td>\n",
       "    </tr>\n",
       "    <tr>\n",
       "      <th>1</th>\n",
       "      <td>1294</td>\n",
       "      <td>The Earth's temperature is rising due to human activities, such as the burning of fossil fuels and deforestation.</td>\n",
       "      <td>climate</td>\n",
       "      <td>[(The, DET), (Earth, PROPN), ('s, PART), (temperature, NOUN), (is, AUX), (rising, VERB), (due, ADP), (to, ADP), (human, ADJ), (activities, NOUN), (,, PUNCT), (such, ADJ), (as, ADP), (the, DET), (burning, NOUN), (of, ADP), (fossil, ADJ), (fuels, NOUN), (and, CCONJ), (deforestation, NOUN), (., PUNCT)]</td>\n",
       "    </tr>\n",
       "    <tr>\n",
       "      <th>2</th>\n",
       "      <td>1295</td>\n",
       "      <td>This has led to more extreme weather events, including hurricanes, floods, and droughts.</td>\n",
       "      <td>climate</td>\n",
       "      <td>[(This, PRON), (has, AUX), (led, VERB), (to, ADP), (more, ADV), (extreme, ADJ), (weather, NOUN), (events, NOUN), (,, PUNCT), (including, VERB), (hurricanes, NOUN), (,, PUNCT), (floods, NOUN), (,, PUNCT), (and, CCONJ), (droughts, NOUN), (., PUNCT)]</td>\n",
       "    </tr>\n",
       "    <tr>\n",
       "      <th>3</th>\n",
       "      <td>1296</td>\n",
       "      <td>The consequences of climate change are already being felt around the world, with vulnerable populations, such as the poor and marginalized, bearing the brunt of the impact.</td>\n",
       "      <td>climate</td>\n",
       "      <td>[(The, DET), (consequences, NOUN), (of, ADP), (climate, NOUN), (change, NOUN), (are, AUX), (already, ADV), (being, AUX), (felt, VERB), (around, ADP), (the, DET), (world, NOUN), (,, PUNCT), (with, ADP), (vulnerable, ADJ), (populations, NOUN), (,, PUNCT), (such, ADJ), (as, ADP), (the, DET), (poor, ADJ), (and, CCONJ), (marginalized, VERB), (,, PUNCT), (bearing, VERB), (the, DET), (brunt, NOUN), (of, ADP), (the, DET), (impact, NOUN), (., PUNCT)]</td>\n",
       "    </tr>\n",
       "    <tr>\n",
       "      <th>4</th>\n",
       "      <td>1297</td>\n",
       "      <td>It's crucial that we take immediate action to reduce our carbon footprint and mitigate the effects of climate change.</td>\n",
       "      <td>climate</td>\n",
       "      <td>[(It, PRON), ('s, AUX), (crucial, ADJ), (that, SCONJ), (we, PRON), (take, VERB), (immediate, ADJ), (action, NOUN), (to, PART), (reduce, VERB), (our, PRON), (carbon, NOUN), (footprint, NOUN), (and, CCONJ), (mitigate, VERB), (the, DET), (effects, NOUN), (of, ADP), (climate, NOUN), (change, NOUN), (., PUNCT)]</td>\n",
       "    </tr>\n",
       "  </tbody>\n",
       "</table>\n",
       "</div>"
      ],
      "text/plain": [
       "   documentId  \\\n",
       "0        1293   \n",
       "1        1294   \n",
       "2        1295   \n",
       "3        1296   \n",
       "4        1297   \n",
       "\n",
       "                                                                                                                                                                           text  \\\n",
       "0                                                                                                                       Climate change is a pressing issue that affects us all.   \n",
       "1                                                             The Earth's temperature is rising due to human activities, such as the burning of fossil fuels and deforestation.   \n",
       "2                                                                                      This has led to more extreme weather events, including hurricanes, floods, and droughts.   \n",
       "3  The consequences of climate change are already being felt around the world, with vulnerable populations, such as the poor and marginalized, bearing the brunt of the impact.   \n",
       "4                                                         It's crucial that we take immediate action to reduce our carbon footprint and mitigate the effects of climate change.   \n",
       "\n",
       "  category  \\\n",
       "0  climate   \n",
       "1  climate   \n",
       "2  climate   \n",
       "3  climate   \n",
       "4  climate   \n",
       "\n",
       "                                                                                                                                                                                                                                                                                                                                                                                                                                                        pos_tags  \n",
       "0                                                                                                                                                                                                                                                                                                    [(Climate, NOUN), (change, NOUN), (is, AUX), (a, DET), (pressing, VERB), (issue, NOUN), (that, PRON), (affects, VERB), (us, PRON), (all, PRON), (., PUNCT)]  \n",
       "1                                                                                                                                                   [(The, DET), (Earth, PROPN), ('s, PART), (temperature, NOUN), (is, AUX), (rising, VERB), (due, ADP), (to, ADP), (human, ADJ), (activities, NOUN), (,, PUNCT), (such, ADJ), (as, ADP), (the, DET), (burning, NOUN), (of, ADP), (fossil, ADJ), (fuels, NOUN), (and, CCONJ), (deforestation, NOUN), (., PUNCT)]  \n",
       "2                                                                                                                                                                                                        [(This, PRON), (has, AUX), (led, VERB), (to, ADP), (more, ADV), (extreme, ADJ), (weather, NOUN), (events, NOUN), (,, PUNCT), (including, VERB), (hurricanes, NOUN), (,, PUNCT), (floods, NOUN), (,, PUNCT), (and, CCONJ), (droughts, NOUN), (., PUNCT)]  \n",
       "3  [(The, DET), (consequences, NOUN), (of, ADP), (climate, NOUN), (change, NOUN), (are, AUX), (already, ADV), (being, AUX), (felt, VERB), (around, ADP), (the, DET), (world, NOUN), (,, PUNCT), (with, ADP), (vulnerable, ADJ), (populations, NOUN), (,, PUNCT), (such, ADJ), (as, ADP), (the, DET), (poor, ADJ), (and, CCONJ), (marginalized, VERB), (,, PUNCT), (bearing, VERB), (the, DET), (brunt, NOUN), (of, ADP), (the, DET), (impact, NOUN), (., PUNCT)]  \n",
       "4                                                                                                                                            [(It, PRON), ('s, AUX), (crucial, ADJ), (that, SCONJ), (we, PRON), (take, VERB), (immediate, ADJ), (action, NOUN), (to, PART), (reduce, VERB), (our, PRON), (carbon, NOUN), (footprint, NOUN), (and, CCONJ), (mitigate, VERB), (the, DET), (effects, NOUN), (of, ADP), (climate, NOUN), (change, NOUN), (., PUNCT)]  "
      ]
     },
     "execution_count": 9,
     "metadata": {},
     "output_type": "execute_result"
    }
   ],
   "source": [
    "df"
   ]
  },
  {
   "cell_type": "markdown",
   "id": "4319480e",
   "metadata": {},
   "source": [
    "    "
   ]
  },
  {
   "cell_type": "code",
   "execution_count": 4,
   "id": "92a5d42f",
   "metadata": {},
   "outputs": [],
   "source": [
    "# Define a function to apply POS tagging to each sentence\n",
    "def pos_tags(text):\n",
    "    doc = nlp(text)\n",
    "    return [token.pos_ for token in doc]\n",
    "\n",
    "# Apply the function to the 'text' column of the DataFrame\n",
    "df['pos'] = df['text'].apply(pos_tags)"
   ]
  },
  {
   "cell_type": "code",
   "execution_count": 19,
   "id": "8a7b63ff",
   "metadata": {},
   "outputs": [
    {
     "data": {
      "text/html": [
       "<div>\n",
       "<style scoped>\n",
       "    .dataframe tbody tr th:only-of-type {\n",
       "        vertical-align: middle;\n",
       "    }\n",
       "\n",
       "    .dataframe tbody tr th {\n",
       "        vertical-align: top;\n",
       "    }\n",
       "\n",
       "    .dataframe thead th {\n",
       "        text-align: right;\n",
       "    }\n",
       "</style>\n",
       "<table border=\"1\" class=\"dataframe\">\n",
       "  <thead>\n",
       "    <tr style=\"text-align: right;\">\n",
       "      <th></th>\n",
       "      <th>documentId</th>\n",
       "      <th>text</th>\n",
       "      <th>category</th>\n",
       "      <th>pos_tags</th>\n",
       "      <th>pos</th>\n",
       "    </tr>\n",
       "  </thead>\n",
       "  <tbody>\n",
       "    <tr>\n",
       "      <th>0</th>\n",
       "      <td>1293</td>\n",
       "      <td>Climate change is a pressing issue that affects us all.</td>\n",
       "      <td>climate</td>\n",
       "      <td>[(Climate, NOUN), (change, NOUN), (is, AUX), (a, DET), (pressing, VERB), (issue, NOUN), (that, PRON), (affects, VERB), (us, PRON), (all, PRON), (., PUNCT)]</td>\n",
       "      <td>[NOUN, NOUN, AUX, DET, VERB, NOUN, PRON, VERB, PRON, PRON, PUNCT]</td>\n",
       "    </tr>\n",
       "    <tr>\n",
       "      <th>1</th>\n",
       "      <td>1294</td>\n",
       "      <td>The Earth's temperature is rising due to human activities, such as the burning of fossil fuels and deforestation.</td>\n",
       "      <td>climate</td>\n",
       "      <td>[(The, DET), (Earth, PROPN), ('s, PART), (temperature, NOUN), (is, AUX), (rising, VERB), (due, ADP), (to, ADP), (human, ADJ), (activities, NOUN), (,, PUNCT), (such, ADJ), (as, ADP), (the, DET), (burning, NOUN), (of, ADP), (fossil, ADJ), (fuels, NOUN), (and, CCONJ), (deforestation, NOUN), (., PUNCT)]</td>\n",
       "      <td>[DET, PROPN, PART, NOUN, AUX, VERB, ADP, ADP, ADJ, NOUN, PUNCT, ADJ, ADP, DET, NOUN, ADP, ADJ, NOUN, CCONJ, NOUN, PUNCT]</td>\n",
       "    </tr>\n",
       "    <tr>\n",
       "      <th>2</th>\n",
       "      <td>1295</td>\n",
       "      <td>This has led to more extreme weather events, including hurricanes, floods, and droughts.</td>\n",
       "      <td>climate</td>\n",
       "      <td>[(This, PRON), (has, AUX), (led, VERB), (to, ADP), (more, ADV), (extreme, ADJ), (weather, NOUN), (events, NOUN), (,, PUNCT), (including, VERB), (hurricanes, NOUN), (,, PUNCT), (floods, NOUN), (,, PUNCT), (and, CCONJ), (droughts, NOUN), (., PUNCT)]</td>\n",
       "      <td>[PRON, AUX, VERB, ADP, ADV, ADJ, NOUN, NOUN, PUNCT, VERB, NOUN, PUNCT, NOUN, PUNCT, CCONJ, NOUN, PUNCT]</td>\n",
       "    </tr>\n",
       "    <tr>\n",
       "      <th>3</th>\n",
       "      <td>1296</td>\n",
       "      <td>The consequences of climate change are already being felt around the world, with vulnerable populations, such as the poor and marginalized, bearing the brunt of the impact.</td>\n",
       "      <td>climate</td>\n",
       "      <td>[(The, DET), (consequences, NOUN), (of, ADP), (climate, NOUN), (change, NOUN), (are, AUX), (already, ADV), (being, AUX), (felt, VERB), (around, ADP), (the, DET), (world, NOUN), (,, PUNCT), (with, ADP), (vulnerable, ADJ), (populations, NOUN), (,, PUNCT), (such, ADJ), (as, ADP), (the, DET), (poor, ADJ), (and, CCONJ), (marginalized, VERB), (,, PUNCT), (bearing, VERB), (the, DET), (brunt, NOUN), (of, ADP), (the, DET), (impact, NOUN), (., PUNCT)]</td>\n",
       "      <td>[DET, NOUN, ADP, NOUN, NOUN, AUX, ADV, AUX, VERB, ADP, DET, NOUN, PUNCT, ADP, ADJ, NOUN, PUNCT, ADJ, ADP, DET, ADJ, CCONJ, VERB, PUNCT, VERB, DET, NOUN, ADP, DET, NOUN, PUNCT]</td>\n",
       "    </tr>\n",
       "    <tr>\n",
       "      <th>4</th>\n",
       "      <td>1297</td>\n",
       "      <td>It's crucial that we take immediate action to reduce our carbon footprint and mitigate the effects of climate change.</td>\n",
       "      <td>climate</td>\n",
       "      <td>[(It, PRON), ('s, AUX), (crucial, ADJ), (that, SCONJ), (we, PRON), (take, VERB), (immediate, ADJ), (action, NOUN), (to, PART), (reduce, VERB), (our, PRON), (carbon, NOUN), (footprint, NOUN), (and, CCONJ), (mitigate, VERB), (the, DET), (effects, NOUN), (of, ADP), (climate, NOUN), (change, NOUN), (., PUNCT)]</td>\n",
       "      <td>[PRON, AUX, ADJ, SCONJ, PRON, VERB, ADJ, NOUN, PART, VERB, PRON, NOUN, NOUN, CCONJ, VERB, DET, NOUN, ADP, NOUN, NOUN, PUNCT]</td>\n",
       "    </tr>\n",
       "  </tbody>\n",
       "</table>\n",
       "</div>"
      ],
      "text/plain": [
       "   documentId  \\\n",
       "0        1293   \n",
       "1        1294   \n",
       "2        1295   \n",
       "3        1296   \n",
       "4        1297   \n",
       "\n",
       "                                                                                                                                                                           text  \\\n",
       "0                                                                                                                       Climate change is a pressing issue that affects us all.   \n",
       "1                                                             The Earth's temperature is rising due to human activities, such as the burning of fossil fuels and deforestation.   \n",
       "2                                                                                      This has led to more extreme weather events, including hurricanes, floods, and droughts.   \n",
       "3  The consequences of climate change are already being felt around the world, with vulnerable populations, such as the poor and marginalized, bearing the brunt of the impact.   \n",
       "4                                                         It's crucial that we take immediate action to reduce our carbon footprint and mitigate the effects of climate change.   \n",
       "\n",
       "  category  \\\n",
       "0  climate   \n",
       "1  climate   \n",
       "2  climate   \n",
       "3  climate   \n",
       "4  climate   \n",
       "\n",
       "                                                                                                                                                                                                                                                                                                                                                                                                                                                        pos_tags  \\\n",
       "0                                                                                                                                                                                                                                                                                                    [(Climate, NOUN), (change, NOUN), (is, AUX), (a, DET), (pressing, VERB), (issue, NOUN), (that, PRON), (affects, VERB), (us, PRON), (all, PRON), (., PUNCT)]   \n",
       "1                                                                                                                                                   [(The, DET), (Earth, PROPN), ('s, PART), (temperature, NOUN), (is, AUX), (rising, VERB), (due, ADP), (to, ADP), (human, ADJ), (activities, NOUN), (,, PUNCT), (such, ADJ), (as, ADP), (the, DET), (burning, NOUN), (of, ADP), (fossil, ADJ), (fuels, NOUN), (and, CCONJ), (deforestation, NOUN), (., PUNCT)]   \n",
       "2                                                                                                                                                                                                        [(This, PRON), (has, AUX), (led, VERB), (to, ADP), (more, ADV), (extreme, ADJ), (weather, NOUN), (events, NOUN), (,, PUNCT), (including, VERB), (hurricanes, NOUN), (,, PUNCT), (floods, NOUN), (,, PUNCT), (and, CCONJ), (droughts, NOUN), (., PUNCT)]   \n",
       "3  [(The, DET), (consequences, NOUN), (of, ADP), (climate, NOUN), (change, NOUN), (are, AUX), (already, ADV), (being, AUX), (felt, VERB), (around, ADP), (the, DET), (world, NOUN), (,, PUNCT), (with, ADP), (vulnerable, ADJ), (populations, NOUN), (,, PUNCT), (such, ADJ), (as, ADP), (the, DET), (poor, ADJ), (and, CCONJ), (marginalized, VERB), (,, PUNCT), (bearing, VERB), (the, DET), (brunt, NOUN), (of, ADP), (the, DET), (impact, NOUN), (., PUNCT)]   \n",
       "4                                                                                                                                            [(It, PRON), ('s, AUX), (crucial, ADJ), (that, SCONJ), (we, PRON), (take, VERB), (immediate, ADJ), (action, NOUN), (to, PART), (reduce, VERB), (our, PRON), (carbon, NOUN), (footprint, NOUN), (and, CCONJ), (mitigate, VERB), (the, DET), (effects, NOUN), (of, ADP), (climate, NOUN), (change, NOUN), (., PUNCT)]   \n",
       "\n",
       "                                                                                                                                                                               pos  \n",
       "0                                                                                                                [NOUN, NOUN, AUX, DET, VERB, NOUN, PRON, VERB, PRON, PRON, PUNCT]  \n",
       "1                                                         [DET, PROPN, PART, NOUN, AUX, VERB, ADP, ADP, ADJ, NOUN, PUNCT, ADJ, ADP, DET, NOUN, ADP, ADJ, NOUN, CCONJ, NOUN, PUNCT]  \n",
       "2                                                                          [PRON, AUX, VERB, ADP, ADV, ADJ, NOUN, NOUN, PUNCT, VERB, NOUN, PUNCT, NOUN, PUNCT, CCONJ, NOUN, PUNCT]  \n",
       "3  [DET, NOUN, ADP, NOUN, NOUN, AUX, ADV, AUX, VERB, ADP, DET, NOUN, PUNCT, ADP, ADJ, NOUN, PUNCT, ADJ, ADP, DET, ADJ, CCONJ, VERB, PUNCT, VERB, DET, NOUN, ADP, DET, NOUN, PUNCT]  \n",
       "4                                                     [PRON, AUX, ADJ, SCONJ, PRON, VERB, ADJ, NOUN, PART, VERB, PRON, NOUN, NOUN, CCONJ, VERB, DET, NOUN, ADP, NOUN, NOUN, PUNCT]  "
      ]
     },
     "execution_count": 19,
     "metadata": {},
     "output_type": "execute_result"
    }
   ],
   "source": [
    "df"
   ]
  },
  {
   "cell_type": "markdown",
   "id": "29825060",
   "metadata": {},
   "source": [
    "    "
   ]
  },
  {
   "cell_type": "markdown",
   "id": "c63c4866",
   "metadata": {},
   "source": [
    "It's generally recommended to perform **part-of-speech (POS)** tagging on a text after text cleaning. This is because text cleaning can modify the original text and change the context of words, which can affect the accuracy of POS tagging.\n",
    "\n",
    "For example, if a text contains contractions like `\"didn't\"` or `\"couldn't\"`, removing the apostrophes during text cleaning could result in the words \"didnt\" and \"couldnt\" being considered as separate words instead of contractions. This can lead to incorrect POS tags being assigned to those words.\n",
    "\n",
    "However, there may be cases where specific types of text cleaning, such as removing stop words or stemming words, can improve the accuracy of POS tagging. For instance, removing stop words like \"the\" or \"and\" can help focus on the more informative words in a text, which can make the POS tagging process more accurate. Similarly, stemming can reduce the number of unique words in a text, which can help reduce the computational cost of POS tagging.\n",
    "\n",
    "In summary, while it's generally recommended to perform POS tagging on a text after text cleaning, the specific type of text cleaning and the goals of the analysis should be taken into account to determine the best approach for a particular application."
   ]
  },
  {
   "cell_type": "markdown",
   "id": "6432ef6b",
   "metadata": {},
   "source": [
    "    "
   ]
  },
  {
   "cell_type": "markdown",
   "id": "fe249a8d",
   "metadata": {},
   "source": [
    "## Model Training"
   ]
  },
  {
   "cell_type": "code",
   "execution_count": 7,
   "id": "bc387a67",
   "metadata": {},
   "outputs": [
    {
     "data": {
      "text/plain": [
       "0                                                                                                                  [NOUN, NOUN, AUX, DET, VERB, NOUN, PRON, VERB, PRON, PRON, PUNCT]\n",
       "1                                                           [DET, PROPN, PART, NOUN, AUX, VERB, ADP, ADP, ADJ, NOUN, PUNCT, ADJ, ADP, DET, NOUN, ADP, ADJ, NOUN, CCONJ, NOUN, PUNCT]\n",
       "2                                                                            [PRON, AUX, VERB, ADP, ADV, ADJ, NOUN, NOUN, PUNCT, VERB, NOUN, PUNCT, NOUN, PUNCT, CCONJ, NOUN, PUNCT]\n",
       "3    [DET, NOUN, ADP, NOUN, NOUN, AUX, ADV, AUX, VERB, ADP, DET, NOUN, PUNCT, ADP, ADJ, NOUN, PUNCT, ADJ, ADP, DET, ADJ, CCONJ, VERB, PUNCT, VERB, DET, NOUN, ADP, DET, NOUN, PUNCT]\n",
       "4                                                       [PRON, AUX, ADJ, SCONJ, PRON, VERB, ADJ, NOUN, PART, VERB, PRON, NOUN, NOUN, CCONJ, VERB, DET, NOUN, ADP, NOUN, NOUN, PUNCT]\n",
       "Name: text, dtype: object"
      ]
     },
     "execution_count": 7,
     "metadata": {},
     "output_type": "execute_result"
    }
   ],
   "source": [
    "X = df['text'].apply(pos_tags)\n",
    "X"
   ]
  },
  {
   "cell_type": "code",
   "execution_count": 8,
   "id": "368d116a",
   "metadata": {},
   "outputs": [],
   "source": [
    "# Convert the POS tags to one-hot encoded vectors\n",
    "all_tags = set(tag for tags in X for tag in tags)\n",
    "tag_index = {tag: i for i, tag in enumerate(all_tags)}\n"
   ]
  },
  {
   "cell_type": "code",
   "execution_count": 9,
   "id": "05e3231e",
   "metadata": {},
   "outputs": [
    {
     "data": {
      "text/plain": [
       "{'ADJ',\n",
       " 'ADP',\n",
       " 'ADV',\n",
       " 'AUX',\n",
       " 'CCONJ',\n",
       " 'DET',\n",
       " 'NOUN',\n",
       " 'PART',\n",
       " 'PRON',\n",
       " 'PROPN',\n",
       " 'PUNCT',\n",
       " 'SCONJ',\n",
       " 'VERB'}"
      ]
     },
     "execution_count": 9,
     "metadata": {},
     "output_type": "execute_result"
    }
   ],
   "source": [
    "all_tags"
   ]
  },
  {
   "cell_type": "code",
   "execution_count": 10,
   "id": "14b436a3",
   "metadata": {},
   "outputs": [
    {
     "data": {
      "text/plain": [
       "{'PART': 0,\n",
       " 'AUX': 1,\n",
       " 'ADV': 2,\n",
       " 'PROPN': 3,\n",
       " 'SCONJ': 4,\n",
       " 'VERB': 5,\n",
       " 'DET': 6,\n",
       " 'NOUN': 7,\n",
       " 'PRON': 8,\n",
       " 'ADJ': 9,\n",
       " 'PUNCT': 10,\n",
       " 'ADP': 11,\n",
       " 'CCONJ': 12}"
      ]
     },
     "execution_count": 10,
     "metadata": {},
     "output_type": "execute_result"
    }
   ],
   "source": [
    "tag_index"
   ]
  },
  {
   "cell_type": "markdown",
   "id": "e53f1848",
   "metadata": {},
   "source": [
    "Convert the POS tags in X to one-hot encoded vectors using the one_hot_encode function. This function takes a list of POS tags as input, and returns a binary vector where the i-th element is 1 if the i-th POS tag in the corpus is present in the input, and 0 otherwise.\n",
    "\n"
   ]
  },
  {
   "cell_type": "code",
   "execution_count": 11,
   "id": "9c2d35d7",
   "metadata": {},
   "outputs": [],
   "source": [
    "#Create a function\n",
    "def one_hot_encode(tags):\n",
    "    vec = [0] * len(all_tags)\n",
    "    for tag in tags:\n",
    "        vec[tag_index[tag]] = 1\n",
    "    return vec\n",
    "\n",
    "X = [one_hot_encode(tags) for tags in X]"
   ]
  },
  {
   "cell_type": "code",
   "execution_count": 14,
   "id": "d2b119b7",
   "metadata": {},
   "outputs": [
    {
     "data": {
      "text/plain": [
       "[[0, 1, 0, 0, 0, 1, 1, 1, 1, 0, 1, 0, 0],\n",
       " [1, 1, 0, 1, 0, 1, 1, 1, 0, 1, 1, 1, 1],\n",
       " [0, 1, 1, 0, 0, 1, 0, 1, 1, 1, 1, 1, 1],\n",
       " [0, 1, 1, 0, 0, 1, 1, 1, 0, 1, 1, 1, 1],\n",
       " [1, 1, 0, 0, 1, 1, 1, 1, 1, 1, 1, 1, 1]]"
      ]
     },
     "execution_count": 14,
     "metadata": {},
     "output_type": "execute_result"
    }
   ],
   "source": [
    "X"
   ]
  },
  {
   "cell_type": "markdown",
   "id": "88701d8f",
   "metadata": {},
   "source": [
    "Since we don't have a target variable, we can't proceed in this example. The code after this to train the model is as below. Where Y is the target. \n",
    "\n",
    "Note: since X is a list, Y should also be a list of the same length as X with corresponding labels for each element in X. Or make both an array."
   ]
  },
  {
   "cell_type": "code",
   "execution_count": null,
   "id": "50b0be99",
   "metadata": {},
   "outputs": [],
   "source": [
    "# Split the data into training and testing sets\n",
    "X_train, X_test, Y_train, Y_test = train_test_split(X, Y, test_size=0.2, random_state=42)\n",
    "\n",
    "# Train a logistic regression model\n",
    "clf = LogisticRegression(random_state=42)\n",
    "clf.fit(X_train, Y_train)\n",
    "\n",
    "# Evaluate the model on the test set\n",
    "Y_pred = clf.predict(X_test)\n",
    "accuracy = accuracy_score(Y_test, Y_pred)\n",
    "print(\"Accuracy:\", accuracy)"
   ]
  },
  {
   "cell_type": "markdown",
   "id": "bce14189",
   "metadata": {},
   "source": [
    "## Applications:\n",
    "\n",
    "Once you have obtained the part-of-speech (POS) tags for a text, you can use them for various text analysis tasks. Here are some examples of how you can use POS tags:\n",
    "\n",
    "Text classification: POS tags can be used as features for text classification tasks. For example, you could use the frequency of certain POS tags in a text to classify the text into categories such as news, reviews, or social media posts.\n",
    "\n",
    "Named entity recognition: POS tags can be used to identify named entities in a text, such as people, places, and organizations. This is because proper nouns are often tagged as 'NNP' (singular proper noun) or 'NNPS' (plural proper noun) by POS taggers.\n",
    "\n",
    "Sentiment analysis: POS tags can be used to identify the sentiment of a text, such as positive or negative. For example, words tagged as adjectives ('JJ') or adverbs ('RB') can provide cues about the sentiment of a text."
   ]
  }
 ],
 "metadata": {
  "kernelspec": {
   "display_name": "Python 3 (ipykernel)",
   "language": "python",
   "name": "python3"
  },
  "language_info": {
   "codemirror_mode": {
    "name": "ipython",
    "version": 3
   },
   "file_extension": ".py",
   "mimetype": "text/x-python",
   "name": "python",
   "nbconvert_exporter": "python",
   "pygments_lexer": "ipython3",
   "version": "3.9.13"
  }
 },
 "nbformat": 4,
 "nbformat_minor": 5
}
