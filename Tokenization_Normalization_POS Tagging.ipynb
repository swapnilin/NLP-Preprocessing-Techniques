{
 "cells": [
  {
   "cell_type": "markdown",
   "metadata": {},
   "source": [
    "# Tokenization"
   ]
  },
  {
   "cell_type": "markdown",
   "metadata": {},
   "source": [
    "Tokenization is a process of breaking the input sequence into smaller parts so that we can some useful smaller units of sequence for semantic processing. Tokens can be a word, sentence, paragraph etc. But in general, mostly tokens are considered words in real life applications. \n",
    "\n",
    "There are so many tokenizers available in `nltk` library, we will see below three tokenizers and how they work - \n",
    "<ol>\n",
    "    <li><b>WhitespaceTokenizer:</b>It tokenizes the string on whitespace</li>\n",
    "    <li><b>WordPunctTokenizer:</b>It tokenizes a text into a sequence of alphabetic and non-alphabetic characters, using the regexp ``\\w+|[^\\w\\s]+``.</li>\n",
    "    <li><b>TreebankWordTokenizer:</b>The Treebank tokenizer uses regular expressions to tokenize text as in Penn Treebank</li>\n",
    "</ol>"
   ]
  },
  {
   "cell_type": "markdown",
   "metadata": {},
   "source": [
    "    "
   ]
  },
  {
   "cell_type": "code",
   "execution_count": 13,
   "metadata": {},
   "outputs": [],
   "source": [
    "#!pip install nltk"
   ]
  },
  {
   "cell_type": "code",
   "execution_count": 3,
   "metadata": {},
   "outputs": [],
   "source": [
    "# Example\n",
    "sentence = \"The weather outside is really hot and humid, isn't it?\""
   ]
  },
  {
   "cell_type": "code",
   "execution_count": 4,
   "metadata": {},
   "outputs": [
    {
     "data": {
      "text/plain": [
       "[['The'],\n",
       " ['weather'],\n",
       " ['outside'],\n",
       " ['is'],\n",
       " ['really'],\n",
       " ['hot'],\n",
       " ['and'],\n",
       " ['humid,'],\n",
       " [\"isn't\"],\n",
       " ['it?']]"
      ]
     },
     "execution_count": 4,
     "metadata": {},
     "output_type": "execute_result"
    }
   ],
   "source": [
    "from nltk.tokenize import WhitespaceTokenizer\n",
    "wst = WhitespaceTokenizer()\n",
    "[wst.tokenize(token) for token in sentence.split(\" \")]"
   ]
  },
  {
   "cell_type": "markdown",
   "metadata": {},
   "source": [
    "<font color='crimpson'><b>Disadvantage:</b> it can't distinguish between `it` and `it?` which are different tokens with same meaning</font>"
   ]
  },
  {
   "cell_type": "markdown",
   "metadata": {},
   "source": [
    "    "
   ]
  },
  {
   "cell_type": "code",
   "execution_count": 5,
   "metadata": {},
   "outputs": [
    {
     "data": {
      "text/plain": [
       "[['The'],\n",
       " ['weather'],\n",
       " ['outside'],\n",
       " ['is'],\n",
       " ['really'],\n",
       " ['hot'],\n",
       " ['and'],\n",
       " ['humid', ','],\n",
       " ['isn', \"'\", 't'],\n",
       " ['it', '?']]"
      ]
     },
     "execution_count": 5,
     "metadata": {},
     "output_type": "execute_result"
    }
   ],
   "source": [
    "from nltk.tokenize import WordPunctTokenizer\n",
    "wpt = WordPunctTokenizer()\n",
    "[wpt.tokenize(token) for token in sentence.split(\" \")]"
   ]
  },
  {
   "cell_type": "markdown",
   "metadata": {},
   "source": [
    "<font color='crimpson'><b>Disadvantage:</b> it gives some tokes which are not meaningful such as - `s`, `isn`, `t`</font>"
   ]
  },
  {
   "cell_type": "markdown",
   "metadata": {},
   "source": [
    "    "
   ]
  },
  {
   "cell_type": "code",
   "execution_count": 6,
   "metadata": {},
   "outputs": [
    {
     "data": {
      "text/plain": [
       "[['The'],\n",
       " ['weather'],\n",
       " ['outside'],\n",
       " ['is'],\n",
       " ['really'],\n",
       " ['hot'],\n",
       " ['and'],\n",
       " ['humid', ','],\n",
       " ['is', \"n't\"],\n",
       " ['it', '?']]"
      ]
     },
     "execution_count": 6,
     "metadata": {},
     "output_type": "execute_result"
    }
   ],
   "source": [
    "from nltk.tokenize import TreebankWordTokenizer\n",
    "tbt = TreebankWordTokenizer()\n",
    "[tbt.tokenize(token) for token in sentence.split(\" \")]"
   ]
  },
  {
   "cell_type": "markdown",
   "metadata": {},
   "source": [
    "<font color='Blue'><b>Advantage:</b> it is better than the above two tokenizers, here we can see `'s` and `n't` are more meaningful for processing</font>"
   ]
  },
  {
   "cell_type": "markdown",
   "metadata": {},
   "source": [
    "    "
   ]
  },
  {
   "cell_type": "markdown",
   "metadata": {},
   "source": [
    "# Normalization"
   ]
  },
  {
   "cell_type": "markdown",
   "metadata": {},
   "source": [
    "While doing text analysis we may want to convert different varieties of words having similar meaning into a single entity. For example - \n",
    "\n",
    "<font color='green'>This `computer` is taking too much `computation` time while `computing` on this data set<font>\n",
    "    \n",
    "In the above example - are the words `computer`, `computation` and `computing` have different meaning? But computer will treat them differently.\n",
    "    \n",
    "<ol>\n",
    "    <li>computer, computation, computing -> compute</li>\n",
    "    <li>run, runs, running -> run</li>\n",
    "</ol>  "
   ]
  },
  {
   "cell_type": "markdown",
   "metadata": {},
   "source": [
    "    "
   ]
  },
  {
   "cell_type": "markdown",
   "metadata": {},
   "source": [
    "### Types of text normalization"
   ]
  },
  {
   "cell_type": "markdown",
   "metadata": {},
   "source": [
    "<font color='blue'><b>Stemming:</b> It is a process of removing and replacing suffixes to get to the root form of the word which is known as `stem`. There are three popular English stemmer - \n",
    "<ol>\n",
    "    <li>Porter</li>\n",
    "    <li>Lancester</li>\n",
    "</ol>    \n",
    "Stemming is generally a set of heuristics that chopps off suffixes. Porter stemmer has `5 heuristic phases` of word reductions that are applied sequentially. It is often noticed that stemming algorithm does not produce a real word after removing the stem, which is fine. But the purpose of stemming is to bring variant forms of a word together, not to map a word onto its ‘paradigm’ form."
   ]
  },
  {
   "cell_type": "markdown",
   "metadata": {},
   "source": [
    "    "
   ]
  },
  {
   "cell_type": "markdown",
   "metadata": {},
   "source": [
    "Step 1a\n",
    "\n",
    "    SSES -> SS                         caresses  ->  caress\n",
    "    IES  -> I                          ponies    ->  poni\n",
    "                                       ties      ->  ti\n",
    "    SS   -> SS                         caress    ->  caress\n",
    "    S    ->                            cats      ->  cat\n",
    "\n",
    "Step 1b\n",
    "\n",
    "    (m>0) EED -> EE                    feed      ->  feed\n",
    "                                       agreed    ->  agree\n",
    "    (*v*) ED  ->                       plastered ->  plaster\n",
    "                                       bled      ->  bled\n",
    "    (*v*) ING ->                       motoring  ->  motor\n",
    "                                       sing      ->  sing\n",
    "\n",
    "If the second or third of the rules in Step 1b is successful, the following\n",
    "is done:\n",
    "\n",
    "    AT -> ATE                       conflat(ed)  ->  conflate\n",
    "    BL -> BLE                       troubl(ed)   ->  trouble\n",
    "    IZ -> IZE                       siz(ed)      ->  size\n",
    "    (*d and not (*L or *S or *Z))\n",
    "       -> single letter\n",
    "                                    hopp(ing)    ->  hop\n",
    "                                    tann(ed)     ->  tan\n",
    "                                    fall(ing)    ->  fall\n",
    "                                    hiss(ing)    ->  hiss\n",
    "                                    fizz(ed)     ->  fizz\n",
    "    (m=1 and *o) -> E               fail(ing)    ->  fail\n",
    "                                    fil(ing)     ->  file\n",
    "\n",
    "The rule to map to a single letter causes the removal of one of the double\n",
    "letter pair. The -E is put back on -AT, -BL and -IZ, so that the suffixes\n",
    "-ATE, -BLE and -IZE can be recognised later. This E may be removed in step\n",
    "4.\n",
    "\n",
    "Step 1c\n",
    "\n",
    "    (*v*) Y -> I                    happy        ->  happi\n",
    "                                    sky          ->  sky\n",
    "\n",
    "Step 1 deals with plurals and past participles. The subsequent steps are\n",
    "much more straightforward."
   ]
  },
  {
   "cell_type": "markdown",
   "metadata": {},
   "source": [
    "    "
   ]
  },
  {
   "cell_type": "markdown",
   "metadata": {},
   "source": [
    "<font color='blue'>You can go through the remaining rules of Porter stemming algorithm using this [link](https://tartarus.org/martin/PorterStemmer/def.txt)</font>"
   ]
  },
  {
   "cell_type": "markdown",
   "metadata": {},
   "source": [
    "    "
   ]
  },
  {
   "cell_type": "code",
   "execution_count": 7,
   "metadata": {},
   "outputs": [],
   "source": [
    "#from nltk.tokenize import TreebankWordTokenizer\n",
    "tokenizer = TreebankWordTokenizer()\n",
    "\n",
    "from nltk.stem import PorterStemmer\n",
    "stemmer = PorterStemmer()"
   ]
  },
  {
   "cell_type": "code",
   "execution_count": 8,
   "metadata": {},
   "outputs": [],
   "source": [
    "#stemmer.stem('Germany')"
   ]
  },
  {
   "cell_type": "code",
   "execution_count": 9,
   "metadata": {},
   "outputs": [
    {
     "data": {
      "text/plain": [
       "'thi comput is take too much comput time while comput on thi data set'"
      ]
     },
     "execution_count": 9,
     "metadata": {},
     "output_type": "execute_result"
    }
   ],
   "source": [
    "sentence = \"This computer is taking too much computation time while computing on this data set\"\n",
    "tokens = tokenizer.tokenize(sentence)\n",
    "\" \".join([stemmer.stem(token) for token in tokens])"
   ]
  },
  {
   "cell_type": "markdown",
   "metadata": {},
   "source": [
    "<font color='crimpson'><b>Disadvantage:</b> It fails on irregular forms and thereby produces non-words. In the above you can see that it has produced non-words like `thi` and `comput`</font>"
   ]
  },
  {
   "cell_type": "markdown",
   "metadata": {},
   "source": [
    "    "
   ]
  },
  {
   "cell_type": "markdown",
   "metadata": {},
   "source": [
    "<font color='blue'><b>Lemmatization:</b> It is a process of converting different versions of a word with the use of vocabulary and morphological analysis. It returns the base or a dictionary form of a word which is known as `lemma` - \n",
    "<ol>\n",
    "    <li>WordNet Lemmatizer</li>\n",
    "</ol>    \n",
    "WordNet lemmatization uses `WordNet` database to look up the lemmas. You can check the database using this [link](http://wordnetweb.princeton.edu/perl/webwn), and this database is also downloaded when we use `nltk` library"
   ]
  },
  {
   "cell_type": "code",
   "execution_count": 16,
   "metadata": {},
   "outputs": [
    {
     "name": "stderr",
     "output_type": "stream",
     "text": [
      "[nltk_data] Downloading package wordnet to\n",
      "[nltk_data]     C:\\Users\\KANGRSW\\AppData\\Roaming\\nltk_data...\n"
     ]
    },
    {
     "data": {
      "text/plain": [
       "True"
      ]
     },
     "execution_count": 16,
     "metadata": {},
     "output_type": "execute_result"
    }
   ],
   "source": [
    "import nltk\n",
    "nltk.download('wordnet')"
   ]
  },
  {
   "cell_type": "code",
   "execution_count": 14,
   "metadata": {},
   "outputs": [],
   "source": [
    "from nltk.stem import WordNetLemmatizer\n",
    "lemmatizer = WordNetLemmatizer()"
   ]
  },
  {
   "cell_type": "code",
   "execution_count": 17,
   "metadata": {},
   "outputs": [
    {
     "data": {
      "text/plain": [
       "'The wolf are at the door'"
      ]
     },
     "execution_count": 17,
     "metadata": {},
     "output_type": "execute_result"
    }
   ],
   "source": [
    "sentence = \"The wolves are at the door\"\n",
    "tokens = tokenizer.tokenize(sentence)\n",
    "\" \".join([lemmatizer.lemmatize(token) for token in tokens])"
   ]
  },
  {
   "cell_type": "code",
   "execution_count": null,
   "metadata": {},
   "outputs": [],
   "source": [
    "#lemmatizer.lemmatize"
   ]
  },
  {
   "cell_type": "code",
   "execution_count": 18,
   "metadata": {},
   "outputs": [
    {
     "data": {
      "text/plain": [
       "'the presentation could have been better'"
      ]
     },
     "execution_count": 18,
     "metadata": {},
     "output_type": "execute_result"
    }
   ],
   "source": [
    "sentence = \"the presentation could have been better\"\n",
    "tokens = tokenizer.tokenize(sentence)\n",
    "\" \".join([lemmatizer.lemmatize(token) for token in tokens])"
   ]
  },
  {
   "cell_type": "code",
   "execution_count": 19,
   "metadata": {},
   "outputs": [
    {
     "data": {
      "text/plain": [
       "'he talked to the person'"
      ]
     },
     "execution_count": 19,
     "metadata": {},
     "output_type": "execute_result"
    }
   ],
   "source": [
    "sentence = \"he talked to the person\"\n",
    "tokens = tokenizer.tokenize(sentence)\n",
    "\" \".join([lemmatizer.lemmatize(token) for token in tokens])"
   ]
  },
  {
   "cell_type": "markdown",
   "metadata": {},
   "source": [
    "    "
   ]
  },
  {
   "cell_type": "markdown",
   "metadata": {},
   "source": [
    "<font color='crimpson'><b>Disadvantage:</b> Not all forms are reduced. As you can see above `talked` remains `talked`, no changes there. But let's see what happens if we stemmer in place of lemmatizer in this sentence</font>"
   ]
  },
  {
   "cell_type": "code",
   "execution_count": 20,
   "metadata": {},
   "outputs": [
    {
     "data": {
      "text/plain": [
       "'he talk to the person'"
      ]
     },
     "execution_count": 20,
     "metadata": {},
     "output_type": "execute_result"
    }
   ],
   "source": [
    "sentence = \"he talked to the person\"\n",
    "tokens = tokenizer.tokenize(sentence)\n",
    "\" \".join([stemmer.stem(token) for token in tokens])"
   ]
  },
  {
   "cell_type": "markdown",
   "metadata": {},
   "source": [
    "    "
   ]
  },
  {
   "cell_type": "markdown",
   "metadata": {},
   "source": [
    "<font color='blue'>What difference do you notice?</font>"
   ]
  },
  {
   "cell_type": "markdown",
   "metadata": {},
   "source": [
    "<font color='crimpson'>Q1. So when to use stemming and when to use lemmatization?</font>"
   ]
  },
  {
   "cell_type": "markdown",
   "metadata": {},
   "source": [
    "    "
   ]
  },
  {
   "cell_type": "markdown",
   "metadata": {},
   "source": [
    "<font color='blue'>Q2. Let's see the below examples - \n",
    "<ol>\n",
    "    <li>Us, us -> Are they same?</li>\n",
    "    <li>us, US -> Are they same?</li>\n",
    "</ol></font>   \n",
    "\n",
    "\n",
    "<font color='blue'>To solve these kinds of problems - \n",
    "We can \n",
    "<ol>\n",
    "    <li>lowercase beginning of the sentence</li>\n",
    "    <li>lowercasing words in titles</li>\n",
    "    <li>leave mid-sentence words as-is</li>\n",
    "<ol></font>    "
   ]
  },
  {
   "cell_type": "markdown",
   "metadata": {},
   "source": [
    "    "
   ]
  },
  {
   "cell_type": "markdown",
   "metadata": {},
   "source": [
    "## Stopwords"
   ]
  },
  {
   "cell_type": "markdown",
   "metadata": {},
   "source": [
    "Stopwords are English words which does not add much meaning to a sentence. They can safely be ignored without sacrificing the meaning of the sentence. For example, the words like the, he, have etc."
   ]
  },
  {
   "cell_type": "code",
   "execution_count": 27,
   "metadata": {
    "scrolled": true
   },
   "outputs": [
    {
     "name": "stdout",
     "output_type": "stream",
     "text": [
      "['i', 'me', 'my', 'myself', 'we', 'our', 'ours', 'ourselves', 'you', \"you're\", \"you've\", \"you'll\", \"you'd\", 'your', 'yours', 'yourself', 'yourselves', 'he', 'him', 'his', 'himself', 'she', \"she's\", 'her', 'hers', 'herself', 'it', \"it's\", 'its', 'itself', 'they', 'them', 'their', 'theirs', 'themselves', 'what', 'which', 'who', 'whom', 'this', 'that', \"that'll\", 'these', 'those', 'am', 'is', 'are', 'was', 'were', 'be', 'been', 'being', 'have', 'has', 'had', 'having', 'do', 'does', 'did', 'doing', 'a', 'an', 'the', 'and', 'but', 'if', 'or', 'because', 'as', 'until', 'while', 'of', 'at', 'by', 'for', 'with', 'about', 'against', 'between', 'into', 'through', 'during', 'before', 'after', 'above', 'below', 'to', 'from', 'up', 'down', 'in', 'out', 'on', 'off', 'over', 'under', 'again', 'further', 'then', 'once', 'here', 'there', 'when', 'where', 'why', 'how', 'all', 'any', 'both', 'each', 'few', 'more', 'most', 'other', 'some', 'such', 'no', 'nor', 'not', 'only', 'own', 'same', 'so', 'than', 'too', 'very', 's', 't', 'can', 'will', 'just', 'don', \"don't\", 'should', \"should've\", 'now', 'd', 'll', 'm', 'o', 're', 've', 'y', 'ain', 'aren', \"aren't\", 'couldn', \"couldn't\", 'didn', \"didn't\", 'doesn', \"doesn't\", 'hadn', \"hadn't\", 'hasn', \"hasn't\", 'haven', \"haven't\", 'isn', \"isn't\", 'ma', 'mightn', \"mightn't\", 'mustn', \"mustn't\", 'needn', \"needn't\", 'shan', \"shan't\", 'shouldn', \"shouldn't\", 'wasn', \"wasn't\", 'weren', \"weren't\", 'won', \"won't\", 'wouldn', \"wouldn't\"]\n"
     ]
    },
    {
     "name": "stderr",
     "output_type": "stream",
     "text": [
      "[nltk_data] Downloading package stopwords to\n",
      "[nltk_data]     C:\\Users\\KANGRSW\\AppData\\Roaming\\nltk_data...\n",
      "[nltk_data]   Unzipping corpora\\stopwords.zip.\n"
     ]
    }
   ],
   "source": [
    "# List stop words\n",
    "from nltk.corpus import stopwords\n",
    "nltk.download('stopwords')\n",
    "print(stopwords.words(\"english\"))"
   ]
  },
  {
   "cell_type": "markdown",
   "metadata": {},
   "source": [
    "    "
   ]
  },
  {
   "cell_type": "markdown",
   "metadata": {},
   "source": [
    "# POS Tagging"
   ]
  },
  {
   "cell_type": "markdown",
   "metadata": {},
   "source": [
    "The task of labelling each word in a sentence with its appropriate `part of speech`. We already know that parts of speech include nouns, verb, adverbs, adjectives, pronouns, conjunction and their sub-categories."
   ]
  },
  {
   "cell_type": "markdown",
   "metadata": {},
   "source": [
    "![alt text](HMM.png \"Title\")"
   ]
  },
  {
   "cell_type": "markdown",
   "metadata": {},
   "source": [
    "### Applications of POS Tagging"
   ]
  },
  {
   "cell_type": "markdown",
   "metadata": {},
   "source": [
    "POS tagging is used many applications, such as - \n",
    "<ol>\n",
    "    <li>Word sense disambiguation</li>\n",
    "    <li>Spelling corrections</li>\n",
    "    <li>grammar corrections</li>\n",
    "</ol>\n",
    "and many more...   "
   ]
  },
  {
   "cell_type": "markdown",
   "metadata": {},
   "source": [
    "For example - let's consider these two sentences - \n",
    "<ol>\n",
    "    <li>I `left` the room</li>\n",
    "    <li>`Left` of the room</li>\n",
    "</ol>"
   ]
  },
  {
   "cell_type": "markdown",
   "metadata": {},
   "source": [
    "In the above two sentences the word `left` conveys different meanings. A POS tagger would help to differentiate between the two meanings of the word left."
   ]
  },
  {
   "cell_type": "markdown",
   "metadata": {},
   "source": [
    "### How does POS tagger works?"
   ]
  },
  {
   "cell_type": "markdown",
   "metadata": {},
   "source": [
    "To understang the train a POS tagger, we need to first have labelled data. Let's imagine a below is labelled dataset for us -"
   ]
  },
  {
   "cell_type": "markdown",
   "metadata": {},
   "source": [
    "![alt text](HMM1.png \"Title\")"
   ]
  },
  {
   "cell_type": "markdown",
   "metadata": {},
   "source": [
    "### <font color='red'>Q1. How will you tag the sentence - `Mary saw Will`</font>"
   ]
  },
  {
   "cell_type": "markdown",
   "metadata": {},
   "source": [
    "tag the words with most common parts of speech, for example - "
   ]
  },
  {
   "cell_type": "markdown",
   "metadata": {},
   "source": [
    "|  | Noun   |Verb|\n",
    "|------|------|-----|\n",
    "|Mary|1|0|\n",
    "|saw|0|2|\n",
    "|Jane|2|0|\n",
    "|Will|1|0|"
   ]
  },
  {
   "cell_type": "markdown",
   "metadata": {},
   "source": [
    "<ol>\n",
    "<li>Mary ->N</li>\n",
    "<li>saw ->V</li>\n",
    "<li>Will ->N</li>\n",
    "</ol>    "
   ]
  },
  {
   "cell_type": "markdown",
   "metadata": {},
   "source": [
    "Now let's examine a bigger corpus, as shown below - "
   ]
  },
  {
   "attachments": {
    "image.png": {
     "image/png": "[encoded data removed]"
    }
   },
   "cell_type": "markdown",
   "metadata": {},
   "source": [
    "![image.png](attachment:image.png)"
   ]
  },
  {
   "cell_type": "markdown",
   "metadata": {},
   "source": [
    "the new lookup table becomes -"
   ]
  },
  {
   "cell_type": "markdown",
   "metadata": {},
   "source": [
    "|  | Noun   |Verb|Modal|\n",
    "|------|------|------|------|\n",
    "|Mary|2|0|0|\n",
    "|see|0|3|0|\n",
    "|Jane|2|0|0|\n",
    "|Will|2|0|3|"
   ]
  },
  {
   "cell_type": "markdown",
   "metadata": {},
   "source": [
    "### <font color='red'>Q2. How will you tag the sentence - `Mary will see Will`</font>"
   ]
  },
  {
   "cell_type": "markdown",
   "metadata": {},
   "source": [
    "<ol>\n",
    "    <li>Mary ->N</li>\n",
    "    <li>will ->M</li>\n",
    "    <li>see ->V</li>\n",
    "    <li>Will ->M</li>\n",
    "</ol>    "
   ]
  },
  {
   "cell_type": "markdown",
   "metadata": {},
   "source": [
    "How to solve the above problem? "
   ]
  },
  {
   "cell_type": "markdown",
   "metadata": {},
   "source": [
    "Bigrams"
   ]
  },
  {
   "attachments": {
    "image.png": {
     "image/png": "[encoded data removed]"
    }
   },
   "cell_type": "markdown",
   "metadata": {},
   "source": [
    "![image.png](attachment:image.png)"
   ]
  },
  {
   "cell_type": "markdown",
   "metadata": {},
   "source": [
    "|  | Noun-Modal   |Modal-Verb|Verb-Noun|\n",
    "|------|------|------|------|\n",
    "|mary-will|1|0|0|\n",
    "|will-see|0|3|0|\n",
    "|see-jane|0|0|1|\n",
    "|will-will|1|0|0|\n",
    "|see-mary|0|0|1|\n",
    "|jane-will|1|0|0|\n",
    "|see-will|0|0|1|"
   ]
  },
  {
   "cell_type": "markdown",
   "metadata": {},
   "source": [
    "<ol>\n",
    "    <li>Mary ->N</li>\n",
    "    <li>will ->M</li>\n",
    "    <li>see ->V</li>\n",
    "    <li>Will ->N</li>\n",
    "</ol>    "
   ]
  },
  {
   "cell_type": "markdown",
   "metadata": {},
   "source": [
    "    "
   ]
  },
  {
   "cell_type": "code",
   "execution_count": null,
   "metadata": {},
   "outputs": [],
   "source": []
  }
 ],
 "metadata": {
  "kernelspec": {
   "display_name": "Python 3 (ipykernel)",
   "language": "python",
   "name": "python3"
  },
  "language_info": {
   "codemirror_mode": {
    "name": "ipython",
    "version": 3
   },
   "file_extension": ".py",
   "mimetype": "text/x-python",
   "name": "python",
   "nbconvert_exporter": "python",
   "pygments_lexer": "ipython3",
   "version": "3.9.7"
  }
 },
 "nbformat": 4,
 "nbformat_minor": 2
}
